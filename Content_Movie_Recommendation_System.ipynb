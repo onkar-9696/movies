{
 "cells": [
  {
   "cell_type": "code",
   "execution_count": 1,
   "id": "d0d36f25",
   "metadata": {},
   "outputs": [],
   "source": [
    "import numpy as np\n",
    "import pandas as pd\n",
    "import difflib\n",
    "import seaborn as sns\n",
    "import matplotlib.pyplot as plt\n",
    "from sklearn.feature_extraction.text import TfidfVectorizer\n",
    "from sklearn.metrics.pairwise import cosine_similarity\n",
    "import os\n",
    "\n"
   ]
  },
  {
   "cell_type": "code",
   "execution_count": 2,
   "id": "bb2680cd",
   "metadata": {
    "scrolled": true
   },
   "outputs": [
    {
     "data": {
      "text/plain": [
       "'C:\\\\Users\\\\HP'"
      ]
     },
     "metadata": {},
     "output_type": "display_data"
    }
   ],
   "source": [
    "display (os.getcwd())"
   ]
  },
  {
   "cell_type": "code",
   "execution_count": null,
   "id": "e96035c8",
   "metadata": {},
   "outputs": [],
   "source": []
  },
  {
   "cell_type": "code",
   "execution_count": 3,
   "id": "f3102cd9",
   "metadata": {},
   "outputs": [],
   "source": [
    "os.chdir('C:\\project\\Movie Recommendation System')"
   ]
  },
  {
   "cell_type": "code",
   "execution_count": 4,
   "id": "cdfb310e",
   "metadata": {},
   "outputs": [
    {
     "data": {
      "text/html": [
       "<div>\n",
       "<style scoped>\n",
       "    .dataframe tbody tr th:only-of-type {\n",
       "        vertical-align: middle;\n",
       "    }\n",
       "\n",
       "    .dataframe tbody tr th {\n",
       "        vertical-align: top;\n",
       "    }\n",
       "\n",
       "    .dataframe thead th {\n",
       "        text-align: right;\n",
       "    }\n",
       "</style>\n",
       "<table border=\"1\" class=\"dataframe\">\n",
       "  <thead>\n",
       "    <tr style=\"text-align: right;\">\n",
       "      <th></th>\n",
       "      <th>index</th>\n",
       "      <th>budget</th>\n",
       "      <th>genres</th>\n",
       "      <th>homepage</th>\n",
       "      <th>id</th>\n",
       "      <th>keywords</th>\n",
       "      <th>original_language</th>\n",
       "      <th>original_title</th>\n",
       "      <th>overview</th>\n",
       "      <th>popularity</th>\n",
       "      <th>...</th>\n",
       "      <th>runtime</th>\n",
       "      <th>spoken_languages</th>\n",
       "      <th>status</th>\n",
       "      <th>tagline</th>\n",
       "      <th>title</th>\n",
       "      <th>vote_average</th>\n",
       "      <th>vote_count</th>\n",
       "      <th>cast</th>\n",
       "      <th>crew</th>\n",
       "      <th>director</th>\n",
       "    </tr>\n",
       "  </thead>\n",
       "  <tbody>\n",
       "    <tr>\n",
       "      <th>0</th>\n",
       "      <td>0</td>\n",
       "      <td>237000000</td>\n",
       "      <td>Action Adventure Fantasy Science Fiction</td>\n",
       "      <td>http://www.avatarmovie.com/</td>\n",
       "      <td>19995</td>\n",
       "      <td>culture clash future space war space colony so...</td>\n",
       "      <td>en</td>\n",
       "      <td>Avatar</td>\n",
       "      <td>In the 22nd century, a paraplegic Marine is di...</td>\n",
       "      <td>150.437577</td>\n",
       "      <td>...</td>\n",
       "      <td>162.0</td>\n",
       "      <td>[{\"iso_639_1\": \"en\", \"name\": \"English\"}, {\"iso...</td>\n",
       "      <td>Released</td>\n",
       "      <td>Enter the World of Pandora.</td>\n",
       "      <td>Avatar</td>\n",
       "      <td>7.2</td>\n",
       "      <td>11800</td>\n",
       "      <td>Sam Worthington Zoe Saldana Sigourney Weaver S...</td>\n",
       "      <td>[{'name': 'Stephen E. Rivkin', 'gender': 0, 'd...</td>\n",
       "      <td>James Cameron</td>\n",
       "    </tr>\n",
       "    <tr>\n",
       "      <th>1</th>\n",
       "      <td>1</td>\n",
       "      <td>300000000</td>\n",
       "      <td>Adventure Fantasy Action</td>\n",
       "      <td>http://disney.go.com/disneypictures/pirates/</td>\n",
       "      <td>285</td>\n",
       "      <td>ocean drug abuse exotic island east india trad...</td>\n",
       "      <td>en</td>\n",
       "      <td>Pirates of the Caribbean: At World's End</td>\n",
       "      <td>Captain Barbossa, long believed to be dead, ha...</td>\n",
       "      <td>139.082615</td>\n",
       "      <td>...</td>\n",
       "      <td>169.0</td>\n",
       "      <td>[{\"iso_639_1\": \"en\", \"name\": \"English\"}]</td>\n",
       "      <td>Released</td>\n",
       "      <td>At the end of the world, the adventure begins.</td>\n",
       "      <td>Pirates of the Caribbean: At World's End</td>\n",
       "      <td>6.9</td>\n",
       "      <td>4500</td>\n",
       "      <td>Johnny Depp Orlando Bloom Keira Knightley Stel...</td>\n",
       "      <td>[{'name': 'Dariusz Wolski', 'gender': 2, 'depa...</td>\n",
       "      <td>Gore Verbinski</td>\n",
       "    </tr>\n",
       "    <tr>\n",
       "      <th>2</th>\n",
       "      <td>2</td>\n",
       "      <td>245000000</td>\n",
       "      <td>Action Adventure Crime</td>\n",
       "      <td>http://www.sonypictures.com/movies/spectre/</td>\n",
       "      <td>206647</td>\n",
       "      <td>spy based on novel secret agent sequel mi6</td>\n",
       "      <td>en</td>\n",
       "      <td>Spectre</td>\n",
       "      <td>A cryptic message from Bond’s past sends him o...</td>\n",
       "      <td>107.376788</td>\n",
       "      <td>...</td>\n",
       "      <td>148.0</td>\n",
       "      <td>[{\"iso_639_1\": \"fr\", \"name\": \"Fran\\u00e7ais\"},...</td>\n",
       "      <td>Released</td>\n",
       "      <td>A Plan No One Escapes</td>\n",
       "      <td>Spectre</td>\n",
       "      <td>6.3</td>\n",
       "      <td>4466</td>\n",
       "      <td>Daniel Craig Christoph Waltz L\\u00e9a Seydoux ...</td>\n",
       "      <td>[{'name': 'Thomas Newman', 'gender': 2, 'depar...</td>\n",
       "      <td>Sam Mendes</td>\n",
       "    </tr>\n",
       "    <tr>\n",
       "      <th>3</th>\n",
       "      <td>3</td>\n",
       "      <td>250000000</td>\n",
       "      <td>Action Crime Drama Thriller</td>\n",
       "      <td>http://www.thedarkknightrises.com/</td>\n",
       "      <td>49026</td>\n",
       "      <td>dc comics crime fighter terrorist secret ident...</td>\n",
       "      <td>en</td>\n",
       "      <td>The Dark Knight Rises</td>\n",
       "      <td>Following the death of District Attorney Harve...</td>\n",
       "      <td>112.312950</td>\n",
       "      <td>...</td>\n",
       "      <td>165.0</td>\n",
       "      <td>[{\"iso_639_1\": \"en\", \"name\": \"English\"}]</td>\n",
       "      <td>Released</td>\n",
       "      <td>The Legend Ends</td>\n",
       "      <td>The Dark Knight Rises</td>\n",
       "      <td>7.6</td>\n",
       "      <td>9106</td>\n",
       "      <td>Christian Bale Michael Caine Gary Oldman Anne ...</td>\n",
       "      <td>[{'name': 'Hans Zimmer', 'gender': 2, 'departm...</td>\n",
       "      <td>Christopher Nolan</td>\n",
       "    </tr>\n",
       "    <tr>\n",
       "      <th>4</th>\n",
       "      <td>4</td>\n",
       "      <td>260000000</td>\n",
       "      <td>Action Adventure Science Fiction</td>\n",
       "      <td>http://movies.disney.com/john-carter</td>\n",
       "      <td>49529</td>\n",
       "      <td>based on novel mars medallion space travel pri...</td>\n",
       "      <td>en</td>\n",
       "      <td>John Carter</td>\n",
       "      <td>John Carter is a war-weary, former military ca...</td>\n",
       "      <td>43.926995</td>\n",
       "      <td>...</td>\n",
       "      <td>132.0</td>\n",
       "      <td>[{\"iso_639_1\": \"en\", \"name\": \"English\"}]</td>\n",
       "      <td>Released</td>\n",
       "      <td>Lost in our world, found in another.</td>\n",
       "      <td>John Carter</td>\n",
       "      <td>6.1</td>\n",
       "      <td>2124</td>\n",
       "      <td>Taylor Kitsch Lynn Collins Samantha Morton Wil...</td>\n",
       "      <td>[{'name': 'Andrew Stanton', 'gender': 2, 'depa...</td>\n",
       "      <td>Andrew Stanton</td>\n",
       "    </tr>\n",
       "  </tbody>\n",
       "</table>\n",
       "<p>5 rows × 24 columns</p>\n",
       "</div>"
      ],
      "text/plain": [
       "   index     budget                                    genres  \\\n",
       "0      0  237000000  Action Adventure Fantasy Science Fiction   \n",
       "1      1  300000000                  Adventure Fantasy Action   \n",
       "2      2  245000000                    Action Adventure Crime   \n",
       "3      3  250000000               Action Crime Drama Thriller   \n",
       "4      4  260000000          Action Adventure Science Fiction   \n",
       "\n",
       "                                       homepage      id  \\\n",
       "0                   http://www.avatarmovie.com/   19995   \n",
       "1  http://disney.go.com/disneypictures/pirates/     285   \n",
       "2   http://www.sonypictures.com/movies/spectre/  206647   \n",
       "3            http://www.thedarkknightrises.com/   49026   \n",
       "4          http://movies.disney.com/john-carter   49529   \n",
       "\n",
       "                                            keywords original_language  \\\n",
       "0  culture clash future space war space colony so...                en   \n",
       "1  ocean drug abuse exotic island east india trad...                en   \n",
       "2         spy based on novel secret agent sequel mi6                en   \n",
       "3  dc comics crime fighter terrorist secret ident...                en   \n",
       "4  based on novel mars medallion space travel pri...                en   \n",
       "\n",
       "                             original_title  \\\n",
       "0                                    Avatar   \n",
       "1  Pirates of the Caribbean: At World's End   \n",
       "2                                   Spectre   \n",
       "3                     The Dark Knight Rises   \n",
       "4                               John Carter   \n",
       "\n",
       "                                            overview  popularity  ... runtime  \\\n",
       "0  In the 22nd century, a paraplegic Marine is di...  150.437577  ...   162.0   \n",
       "1  Captain Barbossa, long believed to be dead, ha...  139.082615  ...   169.0   \n",
       "2  A cryptic message from Bond’s past sends him o...  107.376788  ...   148.0   \n",
       "3  Following the death of District Attorney Harve...  112.312950  ...   165.0   \n",
       "4  John Carter is a war-weary, former military ca...   43.926995  ...   132.0   \n",
       "\n",
       "                                    spoken_languages    status  \\\n",
       "0  [{\"iso_639_1\": \"en\", \"name\": \"English\"}, {\"iso...  Released   \n",
       "1           [{\"iso_639_1\": \"en\", \"name\": \"English\"}]  Released   \n",
       "2  [{\"iso_639_1\": \"fr\", \"name\": \"Fran\\u00e7ais\"},...  Released   \n",
       "3           [{\"iso_639_1\": \"en\", \"name\": \"English\"}]  Released   \n",
       "4           [{\"iso_639_1\": \"en\", \"name\": \"English\"}]  Released   \n",
       "\n",
       "                                          tagline  \\\n",
       "0                     Enter the World of Pandora.   \n",
       "1  At the end of the world, the adventure begins.   \n",
       "2                           A Plan No One Escapes   \n",
       "3                                 The Legend Ends   \n",
       "4            Lost in our world, found in another.   \n",
       "\n",
       "                                      title vote_average vote_count  \\\n",
       "0                                    Avatar          7.2      11800   \n",
       "1  Pirates of the Caribbean: At World's End          6.9       4500   \n",
       "2                                   Spectre          6.3       4466   \n",
       "3                     The Dark Knight Rises          7.6       9106   \n",
       "4                               John Carter          6.1       2124   \n",
       "\n",
       "                                                cast  \\\n",
       "0  Sam Worthington Zoe Saldana Sigourney Weaver S...   \n",
       "1  Johnny Depp Orlando Bloom Keira Knightley Stel...   \n",
       "2  Daniel Craig Christoph Waltz L\\u00e9a Seydoux ...   \n",
       "3  Christian Bale Michael Caine Gary Oldman Anne ...   \n",
       "4  Taylor Kitsch Lynn Collins Samantha Morton Wil...   \n",
       "\n",
       "                                                crew           director  \n",
       "0  [{'name': 'Stephen E. Rivkin', 'gender': 0, 'd...      James Cameron  \n",
       "1  [{'name': 'Dariusz Wolski', 'gender': 2, 'depa...     Gore Verbinski  \n",
       "2  [{'name': 'Thomas Newman', 'gender': 2, 'depar...         Sam Mendes  \n",
       "3  [{'name': 'Hans Zimmer', 'gender': 2, 'departm...  Christopher Nolan  \n",
       "4  [{'name': 'Andrew Stanton', 'gender': 2, 'depa...     Andrew Stanton  \n",
       "\n",
       "[5 rows x 24 columns]"
      ]
     },
     "execution_count": 4,
     "metadata": {},
     "output_type": "execute_result"
    }
   ],
   "source": [
    "movies =pd.read_csv('movies.csv')\n",
    "movies.head()"
   ]
  },
  {
   "cell_type": "code",
   "execution_count": 5,
   "id": "223a4b9b",
   "metadata": {},
   "outputs": [
    {
     "data": {
      "text/plain": [
       "(4803, 24)"
      ]
     },
     "metadata": {},
     "output_type": "display_data"
    }
   ],
   "source": [
    "display (movies.shape)"
   ]
  },
  {
   "cell_type": "code",
   "execution_count": 6,
   "id": "6e2d5e8d",
   "metadata": {},
   "outputs": [
    {
     "data": {
      "text/html": [
       "<div>\n",
       "<style scoped>\n",
       "    .dataframe tbody tr th:only-of-type {\n",
       "        vertical-align: middle;\n",
       "    }\n",
       "\n",
       "    .dataframe tbody tr th {\n",
       "        vertical-align: top;\n",
       "    }\n",
       "\n",
       "    .dataframe thead th {\n",
       "        text-align: right;\n",
       "    }\n",
       "</style>\n",
       "<table border=\"1\" class=\"dataframe\">\n",
       "  <thead>\n",
       "    <tr style=\"text-align: right;\">\n",
       "      <th></th>\n",
       "      <th>id</th>\n",
       "      <th>title</th>\n",
       "      <th>overview</th>\n",
       "      <th>genres</th>\n",
       "      <th>keywords</th>\n",
       "      <th>cast</th>\n",
       "      <th>crew</th>\n",
       "    </tr>\n",
       "  </thead>\n",
       "  <tbody>\n",
       "    <tr>\n",
       "      <th>0</th>\n",
       "      <td>19995</td>\n",
       "      <td>Avatar</td>\n",
       "      <td>In the 22nd century, a paraplegic Marine is di...</td>\n",
       "      <td>Action Adventure Fantasy Science Fiction</td>\n",
       "      <td>culture clash future space war space colony so...</td>\n",
       "      <td>Sam Worthington Zoe Saldana Sigourney Weaver S...</td>\n",
       "      <td>[{'name': 'Stephen E. Rivkin', 'gender': 0, 'd...</td>\n",
       "    </tr>\n",
       "    <tr>\n",
       "      <th>1</th>\n",
       "      <td>285</td>\n",
       "      <td>Pirates of the Caribbean: At World's End</td>\n",
       "      <td>Captain Barbossa, long believed to be dead, ha...</td>\n",
       "      <td>Adventure Fantasy Action</td>\n",
       "      <td>ocean drug abuse exotic island east india trad...</td>\n",
       "      <td>Johnny Depp Orlando Bloom Keira Knightley Stel...</td>\n",
       "      <td>[{'name': 'Dariusz Wolski', 'gender': 2, 'depa...</td>\n",
       "    </tr>\n",
       "    <tr>\n",
       "      <th>2</th>\n",
       "      <td>206647</td>\n",
       "      <td>Spectre</td>\n",
       "      <td>A cryptic message from Bond’s past sends him o...</td>\n",
       "      <td>Action Adventure Crime</td>\n",
       "      <td>spy based on novel secret agent sequel mi6</td>\n",
       "      <td>Daniel Craig Christoph Waltz L\\u00e9a Seydoux ...</td>\n",
       "      <td>[{'name': 'Thomas Newman', 'gender': 2, 'depar...</td>\n",
       "    </tr>\n",
       "    <tr>\n",
       "      <th>3</th>\n",
       "      <td>49026</td>\n",
       "      <td>The Dark Knight Rises</td>\n",
       "      <td>Following the death of District Attorney Harve...</td>\n",
       "      <td>Action Crime Drama Thriller</td>\n",
       "      <td>dc comics crime fighter terrorist secret ident...</td>\n",
       "      <td>Christian Bale Michael Caine Gary Oldman Anne ...</td>\n",
       "      <td>[{'name': 'Hans Zimmer', 'gender': 2, 'departm...</td>\n",
       "    </tr>\n",
       "    <tr>\n",
       "      <th>4</th>\n",
       "      <td>49529</td>\n",
       "      <td>John Carter</td>\n",
       "      <td>John Carter is a war-weary, former military ca...</td>\n",
       "      <td>Action Adventure Science Fiction</td>\n",
       "      <td>based on novel mars medallion space travel pri...</td>\n",
       "      <td>Taylor Kitsch Lynn Collins Samantha Morton Wil...</td>\n",
       "      <td>[{'name': 'Andrew Stanton', 'gender': 2, 'depa...</td>\n",
       "    </tr>\n",
       "    <tr>\n",
       "      <th>...</th>\n",
       "      <td>...</td>\n",
       "      <td>...</td>\n",
       "      <td>...</td>\n",
       "      <td>...</td>\n",
       "      <td>...</td>\n",
       "      <td>...</td>\n",
       "      <td>...</td>\n",
       "    </tr>\n",
       "    <tr>\n",
       "      <th>4798</th>\n",
       "      <td>9367</td>\n",
       "      <td>El Mariachi</td>\n",
       "      <td>El Mariachi just wants to play his guitar and ...</td>\n",
       "      <td>Action Crime Thriller</td>\n",
       "      <td>united states\\u2013mexico barrier legs arms pa...</td>\n",
       "      <td>Carlos Gallardo Jaime de Hoyos Peter Marquardt...</td>\n",
       "      <td>[{'name': 'Robert Rodriguez', 'gender': 0, 'de...</td>\n",
       "    </tr>\n",
       "    <tr>\n",
       "      <th>4799</th>\n",
       "      <td>72766</td>\n",
       "      <td>Newlyweds</td>\n",
       "      <td>A newlywed couple's honeymoon is upended by th...</td>\n",
       "      <td>Comedy Romance</td>\n",
       "      <td>NaN</td>\n",
       "      <td>Edward Burns Kerry Bish\\u00e9 Marsha Dietlein ...</td>\n",
       "      <td>[{'name': 'Edward Burns', 'gender': 2, 'depart...</td>\n",
       "    </tr>\n",
       "    <tr>\n",
       "      <th>4800</th>\n",
       "      <td>231617</td>\n",
       "      <td>Signed, Sealed, Delivered</td>\n",
       "      <td>\"Signed, Sealed, Delivered\" introduces a dedic...</td>\n",
       "      <td>Comedy Drama Romance TV Movie</td>\n",
       "      <td>date love at first sight narration investigati...</td>\n",
       "      <td>Eric Mabius Kristin Booth Crystal Lowe Geoff G...</td>\n",
       "      <td>[{'name': 'Carla Hetland', 'gender': 0, 'depar...</td>\n",
       "    </tr>\n",
       "    <tr>\n",
       "      <th>4801</th>\n",
       "      <td>126186</td>\n",
       "      <td>Shanghai Calling</td>\n",
       "      <td>When ambitious New York attorney Sam is sent t...</td>\n",
       "      <td>NaN</td>\n",
       "      <td>NaN</td>\n",
       "      <td>Daniel Henney Eliza Coupe Bill Paxton Alan Ruc...</td>\n",
       "      <td>[{'name': 'Daniel Hsia', 'gender': 2, 'departm...</td>\n",
       "    </tr>\n",
       "    <tr>\n",
       "      <th>4802</th>\n",
       "      <td>25975</td>\n",
       "      <td>My Date with Drew</td>\n",
       "      <td>Ever since the second grade when he first saw ...</td>\n",
       "      <td>Documentary</td>\n",
       "      <td>obsession camcorder crush dream girl</td>\n",
       "      <td>Drew Barrymore Brian Herzlinger Corey Feldman ...</td>\n",
       "      <td>[{'name': 'Clark Peterson', 'gender': 2, 'depa...</td>\n",
       "    </tr>\n",
       "  </tbody>\n",
       "</table>\n",
       "<p>4803 rows × 7 columns</p>\n",
       "</div>"
      ],
      "text/plain": [
       "          id                                     title  \\\n",
       "0      19995                                    Avatar   \n",
       "1        285  Pirates of the Caribbean: At World's End   \n",
       "2     206647                                   Spectre   \n",
       "3      49026                     The Dark Knight Rises   \n",
       "4      49529                               John Carter   \n",
       "...      ...                                       ...   \n",
       "4798    9367                               El Mariachi   \n",
       "4799   72766                                 Newlyweds   \n",
       "4800  231617                 Signed, Sealed, Delivered   \n",
       "4801  126186                          Shanghai Calling   \n",
       "4802   25975                         My Date with Drew   \n",
       "\n",
       "                                               overview  \\\n",
       "0     In the 22nd century, a paraplegic Marine is di...   \n",
       "1     Captain Barbossa, long believed to be dead, ha...   \n",
       "2     A cryptic message from Bond’s past sends him o...   \n",
       "3     Following the death of District Attorney Harve...   \n",
       "4     John Carter is a war-weary, former military ca...   \n",
       "...                                                 ...   \n",
       "4798  El Mariachi just wants to play his guitar and ...   \n",
       "4799  A newlywed couple's honeymoon is upended by th...   \n",
       "4800  \"Signed, Sealed, Delivered\" introduces a dedic...   \n",
       "4801  When ambitious New York attorney Sam is sent t...   \n",
       "4802  Ever since the second grade when he first saw ...   \n",
       "\n",
       "                                        genres  \\\n",
       "0     Action Adventure Fantasy Science Fiction   \n",
       "1                     Adventure Fantasy Action   \n",
       "2                       Action Adventure Crime   \n",
       "3                  Action Crime Drama Thriller   \n",
       "4             Action Adventure Science Fiction   \n",
       "...                                        ...   \n",
       "4798                     Action Crime Thriller   \n",
       "4799                            Comedy Romance   \n",
       "4800             Comedy Drama Romance TV Movie   \n",
       "4801                                       NaN   \n",
       "4802                               Documentary   \n",
       "\n",
       "                                               keywords  \\\n",
       "0     culture clash future space war space colony so...   \n",
       "1     ocean drug abuse exotic island east india trad...   \n",
       "2            spy based on novel secret agent sequel mi6   \n",
       "3     dc comics crime fighter terrorist secret ident...   \n",
       "4     based on novel mars medallion space travel pri...   \n",
       "...                                                 ...   \n",
       "4798  united states\\u2013mexico barrier legs arms pa...   \n",
       "4799                                                NaN   \n",
       "4800  date love at first sight narration investigati...   \n",
       "4801                                                NaN   \n",
       "4802               obsession camcorder crush dream girl   \n",
       "\n",
       "                                                   cast  \\\n",
       "0     Sam Worthington Zoe Saldana Sigourney Weaver S...   \n",
       "1     Johnny Depp Orlando Bloom Keira Knightley Stel...   \n",
       "2     Daniel Craig Christoph Waltz L\\u00e9a Seydoux ...   \n",
       "3     Christian Bale Michael Caine Gary Oldman Anne ...   \n",
       "4     Taylor Kitsch Lynn Collins Samantha Morton Wil...   \n",
       "...                                                 ...   \n",
       "4798  Carlos Gallardo Jaime de Hoyos Peter Marquardt...   \n",
       "4799  Edward Burns Kerry Bish\\u00e9 Marsha Dietlein ...   \n",
       "4800  Eric Mabius Kristin Booth Crystal Lowe Geoff G...   \n",
       "4801  Daniel Henney Eliza Coupe Bill Paxton Alan Ruc...   \n",
       "4802  Drew Barrymore Brian Herzlinger Corey Feldman ...   \n",
       "\n",
       "                                                   crew  \n",
       "0     [{'name': 'Stephen E. Rivkin', 'gender': 0, 'd...  \n",
       "1     [{'name': 'Dariusz Wolski', 'gender': 2, 'depa...  \n",
       "2     [{'name': 'Thomas Newman', 'gender': 2, 'depar...  \n",
       "3     [{'name': 'Hans Zimmer', 'gender': 2, 'departm...  \n",
       "4     [{'name': 'Andrew Stanton', 'gender': 2, 'depa...  \n",
       "...                                                 ...  \n",
       "4798  [{'name': 'Robert Rodriguez', 'gender': 0, 'de...  \n",
       "4799  [{'name': 'Edward Burns', 'gender': 2, 'depart...  \n",
       "4800  [{'name': 'Carla Hetland', 'gender': 0, 'depar...  \n",
       "4801  [{'name': 'Daniel Hsia', 'gender': 2, 'departm...  \n",
       "4802  [{'name': 'Clark Peterson', 'gender': 2, 'depa...  \n",
       "\n",
       "[4803 rows x 7 columns]"
      ]
     },
     "execution_count": 6,
     "metadata": {},
     "output_type": "execute_result"
    }
   ],
   "source": [
    "movies = movies[['id','title','overview','genres','keywords','cast','crew']]\n",
    "\n",
    "movies"
   ]
  },
  {
   "cell_type": "code",
   "execution_count": 7,
   "id": "cb24f733",
   "metadata": {},
   "outputs": [
    {
     "name": "stdout",
     "output_type": "stream",
     "text": [
      "<class 'pandas.core.frame.DataFrame'>\n",
      "RangeIndex: 4803 entries, 0 to 4802\n",
      "Data columns (total 7 columns):\n",
      " #   Column    Non-Null Count  Dtype \n",
      "---  ------    --------------  ----- \n",
      " 0   id        4803 non-null   int64 \n",
      " 1   title     4803 non-null   object\n",
      " 2   overview  4800 non-null   object\n",
      " 3   genres    4775 non-null   object\n",
      " 4   keywords  4391 non-null   object\n",
      " 5   cast      4760 non-null   object\n",
      " 6   crew      4803 non-null   object\n",
      "dtypes: int64(1), object(6)\n",
      "memory usage: 262.8+ KB\n"
     ]
    },
    {
     "data": {
      "text/plain": [
       "None"
      ]
     },
     "metadata": {},
     "output_type": "display_data"
    }
   ],
   "source": [
    "display (movies.info())"
   ]
  },
  {
   "cell_type": "code",
   "execution_count": 8,
   "id": "66f1245d",
   "metadata": {},
   "outputs": [
    {
     "data": {
      "text/plain": [
       "id            0\n",
       "title         0\n",
       "overview      3\n",
       "genres       28\n",
       "keywords    412\n",
       "cast         43\n",
       "crew          0\n",
       "dtype: int64"
      ]
     },
     "metadata": {},
     "output_type": "display_data"
    }
   ],
   "source": [
    "display (movies.isna().sum())"
   ]
  },
  {
   "cell_type": "code",
   "execution_count": 9,
   "id": "72b0be5f",
   "metadata": {},
   "outputs": [
    {
     "data": {
      "text/html": [
       "<div>\n",
       "<style scoped>\n",
       "    .dataframe tbody tr th:only-of-type {\n",
       "        vertical-align: middle;\n",
       "    }\n",
       "\n",
       "    .dataframe tbody tr th {\n",
       "        vertical-align: top;\n",
       "    }\n",
       "\n",
       "    .dataframe thead th {\n",
       "        text-align: right;\n",
       "    }\n",
       "</style>\n",
       "<table border=\"1\" class=\"dataframe\">\n",
       "  <thead>\n",
       "    <tr style=\"text-align: right;\">\n",
       "      <th></th>\n",
       "      <th>id</th>\n",
       "      <th>title</th>\n",
       "      <th>overview</th>\n",
       "      <th>genres</th>\n",
       "      <th>keywords</th>\n",
       "      <th>cast</th>\n",
       "      <th>crew</th>\n",
       "    </tr>\n",
       "  </thead>\n",
       "  <tbody>\n",
       "    <tr>\n",
       "      <th>0</th>\n",
       "      <td>19995</td>\n",
       "      <td>Avatar</td>\n",
       "      <td>In the 22nd century, a paraplegic Marine is di...</td>\n",
       "      <td>Action Adventure Fantasy Science Fiction</td>\n",
       "      <td>culture clash future space war space colony so...</td>\n",
       "      <td>Sam Worthington Zoe Saldana Sigourney Weaver S...</td>\n",
       "      <td>[{'name': 'Stephen E. Rivkin', 'gender': 0, 'd...</td>\n",
       "    </tr>\n",
       "    <tr>\n",
       "      <th>1</th>\n",
       "      <td>285</td>\n",
       "      <td>Pirates of the Caribbean: At World's End</td>\n",
       "      <td>Captain Barbossa, long believed to be dead, ha...</td>\n",
       "      <td>Adventure Fantasy Action</td>\n",
       "      <td>ocean drug abuse exotic island east india trad...</td>\n",
       "      <td>Johnny Depp Orlando Bloom Keira Knightley Stel...</td>\n",
       "      <td>[{'name': 'Dariusz Wolski', 'gender': 2, 'depa...</td>\n",
       "    </tr>\n",
       "    <tr>\n",
       "      <th>2</th>\n",
       "      <td>206647</td>\n",
       "      <td>Spectre</td>\n",
       "      <td>A cryptic message from Bond’s past sends him o...</td>\n",
       "      <td>Action Adventure Crime</td>\n",
       "      <td>spy based on novel secret agent sequel mi6</td>\n",
       "      <td>Daniel Craig Christoph Waltz L\\u00e9a Seydoux ...</td>\n",
       "      <td>[{'name': 'Thomas Newman', 'gender': 2, 'depar...</td>\n",
       "    </tr>\n",
       "    <tr>\n",
       "      <th>3</th>\n",
       "      <td>49026</td>\n",
       "      <td>The Dark Knight Rises</td>\n",
       "      <td>Following the death of District Attorney Harve...</td>\n",
       "      <td>Action Crime Drama Thriller</td>\n",
       "      <td>dc comics crime fighter terrorist secret ident...</td>\n",
       "      <td>Christian Bale Michael Caine Gary Oldman Anne ...</td>\n",
       "      <td>[{'name': 'Hans Zimmer', 'gender': 2, 'departm...</td>\n",
       "    </tr>\n",
       "    <tr>\n",
       "      <th>4</th>\n",
       "      <td>49529</td>\n",
       "      <td>John Carter</td>\n",
       "      <td>John Carter is a war-weary, former military ca...</td>\n",
       "      <td>Action Adventure Science Fiction</td>\n",
       "      <td>based on novel mars medallion space travel pri...</td>\n",
       "      <td>Taylor Kitsch Lynn Collins Samantha Morton Wil...</td>\n",
       "      <td>[{'name': 'Andrew Stanton', 'gender': 2, 'depa...</td>\n",
       "    </tr>\n",
       "  </tbody>\n",
       "</table>\n",
       "</div>"
      ],
      "text/plain": [
       "       id                                     title  \\\n",
       "0   19995                                    Avatar   \n",
       "1     285  Pirates of the Caribbean: At World's End   \n",
       "2  206647                                   Spectre   \n",
       "3   49026                     The Dark Knight Rises   \n",
       "4   49529                               John Carter   \n",
       "\n",
       "                                            overview  \\\n",
       "0  In the 22nd century, a paraplegic Marine is di...   \n",
       "1  Captain Barbossa, long believed to be dead, ha...   \n",
       "2  A cryptic message from Bond’s past sends him o...   \n",
       "3  Following the death of District Attorney Harve...   \n",
       "4  John Carter is a war-weary, former military ca...   \n",
       "\n",
       "                                     genres  \\\n",
       "0  Action Adventure Fantasy Science Fiction   \n",
       "1                  Adventure Fantasy Action   \n",
       "2                    Action Adventure Crime   \n",
       "3               Action Crime Drama Thriller   \n",
       "4          Action Adventure Science Fiction   \n",
       "\n",
       "                                            keywords  \\\n",
       "0  culture clash future space war space colony so...   \n",
       "1  ocean drug abuse exotic island east india trad...   \n",
       "2         spy based on novel secret agent sequel mi6   \n",
       "3  dc comics crime fighter terrorist secret ident...   \n",
       "4  based on novel mars medallion space travel pri...   \n",
       "\n",
       "                                                cast  \\\n",
       "0  Sam Worthington Zoe Saldana Sigourney Weaver S...   \n",
       "1  Johnny Depp Orlando Bloom Keira Knightley Stel...   \n",
       "2  Daniel Craig Christoph Waltz L\\u00e9a Seydoux ...   \n",
       "3  Christian Bale Michael Caine Gary Oldman Anne ...   \n",
       "4  Taylor Kitsch Lynn Collins Samantha Morton Wil...   \n",
       "\n",
       "                                                crew  \n",
       "0  [{'name': 'Stephen E. Rivkin', 'gender': 0, 'd...  \n",
       "1  [{'name': 'Dariusz Wolski', 'gender': 2, 'depa...  \n",
       "2  [{'name': 'Thomas Newman', 'gender': 2, 'depar...  \n",
       "3  [{'name': 'Hans Zimmer', 'gender': 2, 'departm...  \n",
       "4  [{'name': 'Andrew Stanton', 'gender': 2, 'depa...  "
      ]
     },
     "metadata": {},
     "output_type": "display_data"
    }
   ],
   "source": [
    "display (movies.head())\n"
   ]
  },
  {
   "cell_type": "code",
   "execution_count": 10,
   "id": "d1bc3b10",
   "metadata": {},
   "outputs": [
    {
     "data": {
      "text/plain": [
       "id            0\n",
       "title         0\n",
       "overview      3\n",
       "genres       28\n",
       "keywords    412\n",
       "cast         43\n",
       "crew          0\n",
       "dtype: int64"
      ]
     },
     "metadata": {},
     "output_type": "display_data"
    }
   ],
   "source": [
    "display (movies.isna().sum())\n"
   ]
  },
  {
   "cell_type": "code",
   "execution_count": 11,
   "id": "6f172cba",
   "metadata": {},
   "outputs": [
    {
     "data": {
      "text/html": [
       "<div>\n",
       "<style scoped>\n",
       "    .dataframe tbody tr th:only-of-type {\n",
       "        vertical-align: middle;\n",
       "    }\n",
       "\n",
       "    .dataframe tbody tr th {\n",
       "        vertical-align: top;\n",
       "    }\n",
       "\n",
       "    .dataframe thead th {\n",
       "        text-align: right;\n",
       "    }\n",
       "</style>\n",
       "<table border=\"1\" class=\"dataframe\">\n",
       "  <thead>\n",
       "    <tr style=\"text-align: right;\">\n",
       "      <th></th>\n",
       "      <th>id</th>\n",
       "      <th>title</th>\n",
       "      <th>overview</th>\n",
       "      <th>genres</th>\n",
       "      <th>keywords</th>\n",
       "      <th>cast</th>\n",
       "      <th>crew</th>\n",
       "    </tr>\n",
       "  </thead>\n",
       "  <tbody>\n",
       "    <tr>\n",
       "      <th>0</th>\n",
       "      <td>19995</td>\n",
       "      <td>Avatar</td>\n",
       "      <td>In the 22nd century, a paraplegic Marine is di...</td>\n",
       "      <td>Action Adventure Fantasy Science Fiction</td>\n",
       "      <td>culture clash future space war space colony so...</td>\n",
       "      <td>Sam Worthington Zoe Saldana Sigourney Weaver S...</td>\n",
       "      <td>[{'name': 'Stephen E. Rivkin', 'gender': 0, 'd...</td>\n",
       "    </tr>\n",
       "    <tr>\n",
       "      <th>1</th>\n",
       "      <td>285</td>\n",
       "      <td>Pirates of the Caribbean: At World's End</td>\n",
       "      <td>Captain Barbossa, long believed to be dead, ha...</td>\n",
       "      <td>Adventure Fantasy Action</td>\n",
       "      <td>ocean drug abuse exotic island east india trad...</td>\n",
       "      <td>Johnny Depp Orlando Bloom Keira Knightley Stel...</td>\n",
       "      <td>[{'name': 'Dariusz Wolski', 'gender': 2, 'depa...</td>\n",
       "    </tr>\n",
       "    <tr>\n",
       "      <th>2</th>\n",
       "      <td>206647</td>\n",
       "      <td>Spectre</td>\n",
       "      <td>A cryptic message from Bond’s past sends him o...</td>\n",
       "      <td>Action Adventure Crime</td>\n",
       "      <td>spy based on novel secret agent sequel mi6</td>\n",
       "      <td>Daniel Craig Christoph Waltz L\\u00e9a Seydoux ...</td>\n",
       "      <td>[{'name': 'Thomas Newman', 'gender': 2, 'depar...</td>\n",
       "    </tr>\n",
       "    <tr>\n",
       "      <th>3</th>\n",
       "      <td>49026</td>\n",
       "      <td>The Dark Knight Rises</td>\n",
       "      <td>Following the death of District Attorney Harve...</td>\n",
       "      <td>Action Crime Drama Thriller</td>\n",
       "      <td>dc comics crime fighter terrorist secret ident...</td>\n",
       "      <td>Christian Bale Michael Caine Gary Oldman Anne ...</td>\n",
       "      <td>[{'name': 'Hans Zimmer', 'gender': 2, 'departm...</td>\n",
       "    </tr>\n",
       "    <tr>\n",
       "      <th>4</th>\n",
       "      <td>49529</td>\n",
       "      <td>John Carter</td>\n",
       "      <td>John Carter is a war-weary, former military ca...</td>\n",
       "      <td>Action Adventure Science Fiction</td>\n",
       "      <td>based on novel mars medallion space travel pri...</td>\n",
       "      <td>Taylor Kitsch Lynn Collins Samantha Morton Wil...</td>\n",
       "      <td>[{'name': 'Andrew Stanton', 'gender': 2, 'depa...</td>\n",
       "    </tr>\n",
       "  </tbody>\n",
       "</table>\n",
       "</div>"
      ],
      "text/plain": [
       "       id                                     title  \\\n",
       "0   19995                                    Avatar   \n",
       "1     285  Pirates of the Caribbean: At World's End   \n",
       "2  206647                                   Spectre   \n",
       "3   49026                     The Dark Knight Rises   \n",
       "4   49529                               John Carter   \n",
       "\n",
       "                                            overview  \\\n",
       "0  In the 22nd century, a paraplegic Marine is di...   \n",
       "1  Captain Barbossa, long believed to be dead, ha...   \n",
       "2  A cryptic message from Bond’s past sends him o...   \n",
       "3  Following the death of District Attorney Harve...   \n",
       "4  John Carter is a war-weary, former military ca...   \n",
       "\n",
       "                                     genres  \\\n",
       "0  Action Adventure Fantasy Science Fiction   \n",
       "1                  Adventure Fantasy Action   \n",
       "2                    Action Adventure Crime   \n",
       "3               Action Crime Drama Thriller   \n",
       "4          Action Adventure Science Fiction   \n",
       "\n",
       "                                            keywords  \\\n",
       "0  culture clash future space war space colony so...   \n",
       "1  ocean drug abuse exotic island east india trad...   \n",
       "2         spy based on novel secret agent sequel mi6   \n",
       "3  dc comics crime fighter terrorist secret ident...   \n",
       "4  based on novel mars medallion space travel pri...   \n",
       "\n",
       "                                                cast  \\\n",
       "0  Sam Worthington Zoe Saldana Sigourney Weaver S...   \n",
       "1  Johnny Depp Orlando Bloom Keira Knightley Stel...   \n",
       "2  Daniel Craig Christoph Waltz L\\u00e9a Seydoux ...   \n",
       "3  Christian Bale Michael Caine Gary Oldman Anne ...   \n",
       "4  Taylor Kitsch Lynn Collins Samantha Morton Wil...   \n",
       "\n",
       "                                                crew  \n",
       "0  [{'name': 'Stephen E. Rivkin', 'gender': 0, 'd...  \n",
       "1  [{'name': 'Dariusz Wolski', 'gender': 2, 'depa...  \n",
       "2  [{'name': 'Thomas Newman', 'gender': 2, 'depar...  \n",
       "3  [{'name': 'Hans Zimmer', 'gender': 2, 'departm...  \n",
       "4  [{'name': 'Andrew Stanton', 'gender': 2, 'depa...  "
      ]
     },
     "metadata": {},
     "output_type": "display_data"
    }
   ],
   "source": [
    "for feature in movies:\n",
    "  movies= movies.fillna('')\n",
    "display (movies.head())\n"
   ]
  },
  {
   "cell_type": "code",
   "execution_count": 12,
   "id": "b736b153",
   "metadata": {},
   "outputs": [
    {
     "name": "stdout",
     "output_type": "stream",
     "text": [
      "id          0\n",
      "title       0\n",
      "overview    0\n",
      "genres      0\n",
      "keywords    0\n",
      "cast        0\n",
      "crew        0\n",
      "dtype: int64\n"
     ]
    }
   ],
   "source": [
    "print(movies.isna().sum()) "
   ]
  },
  {
   "cell_type": "code",
   "execution_count": 13,
   "id": "839a3c1d",
   "metadata": {},
   "outputs": [
    {
     "data": {
      "text/plain": [
       "0"
      ]
     },
     "execution_count": 13,
     "metadata": {},
     "output_type": "execute_result"
    }
   ],
   "source": [
    "movies.duplicated().sum()"
   ]
  },
  {
   "cell_type": "code",
   "execution_count": 14,
   "id": "8131c461",
   "metadata": {},
   "outputs": [
    {
     "data": {
      "text/plain": [
       "'Action Adventure Fantasy Science Fiction'"
      ]
     },
     "execution_count": 14,
     "metadata": {},
     "output_type": "execute_result"
    }
   ],
   "source": [
    "movies.iloc[0].genres"
   ]
  },
  {
   "cell_type": "code",
   "execution_count": 15,
   "id": "81d5731e",
   "metadata": {},
   "outputs": [
    {
     "data": {
      "text/plain": [
       "'[{\\'name\\': \\'Stephen E. Rivkin\\', \\'gender\\': 0, \\'department\\': \\'Editing\\', \\'job\\': \\'Editor\\', \\'credit_id\\': \\'52fe48009251416c750aca23\\', \\'id\\': 1721}, {\\'name\\': \\'Rick Carter\\', \\'gender\\': 2, \\'department\\': \\'Art\\', \\'job\\': \\'Production Design\\', \\'credit_id\\': \\'539c47ecc3a36810e3001f87\\', \\'id\\': 496}, {\\'name\\': \\'Christopher Boyes\\', \\'gender\\': 0, \\'department\\': \\'Sound\\', \\'job\\': \\'Sound Designer\\', \\'credit_id\\': \\'54491c89c3a3680fb4001cf7\\', \\'id\\': 900}, {\\'name\\': \\'Christopher Boyes\\', \\'gender\\': 0, \\'department\\': \\'Sound\\', \\'job\\': \\'Supervising Sound Editor\\', \\'credit_id\\': \\'54491cb70e0a267480001bd0\\', \\'id\\': 900}, {\\'name\\': \\'Mali Finn\\', \\'gender\\': 1, \\'department\\': \\'Production\\', \\'job\\': \\'Casting\\', \\'credit_id\\': \\'539c4a4cc3a36810c9002101\\', \\'id\\': 1262}, {\\'name\\': \\'James Horner\\', \\'gender\\': 2, \\'department\\': \\'Sound\\', \\'job\\': \\'Original Music Composer\\', \\'credit_id\\': \\'5544ee3b925141499f0008fc\\', \\'id\\': 1729}, {\\'name\\': \\'James Cameron\\', \\'gender\\': 2, \\'department\\': \\'Directing\\', \\'job\\': \\'Director\\', \\'credit_id\\': \\'52fe48009251416c750ac9c3\\', \\'id\\': 2710}, {\\'name\\': \\'James Cameron\\', \\'gender\\': 2, \\'department\\': \\'Writing\\', \\'job\\': \\'Writer\\', \\'credit_id\\': \\'52fe48009251416c750ac9d9\\', \\'id\\': 2710}, {\\'name\\': \\'James Cameron\\', \\'gender\\': 2, \\'department\\': \\'Editing\\', \\'job\\': \\'Editor\\', \\'credit_id\\': \\'52fe48009251416c750aca17\\', \\'id\\': 2710}, {\\'name\\': \\'James Cameron\\', \\'gender\\': 2, \\'department\\': \\'Production\\', \\'job\\': \\'Producer\\', \\'credit_id\\': \\'52fe48009251416c750aca29\\', \\'id\\': 2710}, {\\'name\\': \\'James Cameron\\', \\'gender\\': 2, \\'department\\': \\'Writing\\', \\'job\\': \\'Screenplay\\', \\'credit_id\\': \\'52fe48009251416c750aca3f\\', \\'id\\': 2710}, {\\'name\\': \\'Andrew Menzies\\', \\'gender\\': 2, \\'department\\': \\'Art\\', \\'job\\': \\'Art Direction\\', \\'credit_id\\': \\'539c4987c3a36810ba0021a4\\', \\'id\\': 7236}, {\\'name\\': \\'Jill Brooks\\', \\'gender\\': 0, \\'department\\': \\'Visual Effects\\', \\'job\\': \\'Visual Effects Producer\\', \\'credit_id\\': \\'549598c3c3a3686ae9004383\\', \\'id\\': 6690}, {\\'name\\': \\'Margery Simkin\\', \\'gender\\': 1, \\'department\\': \\'Production\\', \\'job\\': \\'Casting\\', \\'credit_id\\': \\'52fe48009251416c750aca4b\\', \\'id\\': 6347}, {\\'name\\': \\'Kevin Ishioka\\', \\'gender\\': 2, \\'department\\': \\'Art\\', \\'job\\': \\'Supervising Art Director\\', \\'credit_id\\': \\'570b6f419251417da70032fe\\', \\'id\\': 6878}, {\\'name\\': \\'Dick Bernstein\\', \\'gender\\': 0, \\'department\\': \\'Sound\\', \\'job\\': \\'Music Editor\\', \\'credit_id\\': \\'5495a0fac3a3686ae9004468\\', \\'id\\': 6883}, {\\'name\\': \\'Shannon Mills\\', \\'gender\\': 0, \\'department\\': \\'Sound\\', \\'job\\': \\'Sound Effects Editor\\', \\'credit_id\\': \\'54959706c3a3686af3003e81\\', \\'id\\': 8159}, {\\'name\\': \\'Dennie Thorpe\\', \\'gender\\': 0, \\'department\\': \\'Sound\\', \\'job\\': \\'Foley\\', \\'credit_id\\': \\'54491d58c3a3680fb1001ccb\\', \\'id\\': 8160}, {\\'name\\': \\'Jana Vance\\', \\'gender\\': 0, \\'department\\': \\'Sound\\', \\'job\\': \\'Foley\\', \\'credit_id\\': \\'54491d6cc3a3680fa5001b2c\\', \\'id\\': 8163}, {\\'name\\': \\'Deborah Lynn Scott\\', \\'gender\\': 1, \\'department\\': \\'Costume & Make-Up\\', \\'job\\': \\'Costume Design\\', \\'credit_id\\': \\'52fe48009251416c750aca57\\', \\'id\\': 8527}, {\\'name\\': \\'Jon Landau\\', \\'gender\\': 2, \\'department\\': \\'Production\\', \\'job\\': \\'Producer\\', \\'credit_id\\': \\'52fe48009251416c750aca2f\\', \\'id\\': 8529}, {\\'name\\': \\'Sean Haworth\\', \\'gender\\': 0, \\'department\\': \\'Art\\', \\'job\\': \\'Art Direction\\', \\'credit_id\\': \\'539c4937c3a36810ba002194\\', \\'id\\': 9618}, {\\'name\\': \\'Kim Sinclair\\', \\'gender\\': 1, \\'department\\': \\'Art\\', \\'job\\': \\'Set Decoration\\', \\'credit_id\\': \\'539c49b6c3a36810c10020e6\\', \\'id\\': 12653}, {\\'name\\': \\'Kim Sinclair\\', \\'gender\\': 1, \\'department\\': \\'Art\\', \\'job\\': \\'Supervising Art Director\\', \\'credit_id\\': \\'570b6f2f9251413a0e00020d\\', \\'id\\': 12653}, {\\'name\\': \\'Richard F. Mays\\', \\'gender\\': 2, \\'department\\': \\'Art\\', \\'job\\': \\'Set Designer\\', \\'credit_id\\': \\'54491a6c0e0a26748c001b19\\', \\'id\\': 14350}, {\\'name\\': \\'Laeta Kalogridis\\', \\'gender\\': 1, \\'department\\': \\'Production\\', \\'job\\': \\'Executive Producer\\', \\'credit_id\\': \\'56928cf4c3a3684cff0025c4\\', \\'id\\': 20294}, {\\'name\\': \\'Mayes C. Rubeo\\', \\'gender\\': 0, \\'department\\': \\'Costume & Make-Up\\', \\'job\\': \\'Costume Design\\', \\'credit_id\\': \\'52fe48009251416c750aca51\\', \\'id\\': 17675}, {\\'name\\': \\'Mauro Fiore\\', \\'gender\\': 2, \\'department\\': \\'Camera\\', \\'job\\': \\'Director of Photography\\', \\'credit_id\\': \\'52fe48009251416c750aca11\\', \\'id\\': 18265}, {\\'name\\': \\'Scott Herbertson\\', \\'gender\\': 0, \\'department\\': \\'Art\\', \\'job\\': \\'Set Designer\\', \\'credit_id\\': \\'5449194d0e0a26748f001b39\\', \\'id\\': 42281}, {\\'name\\': \\'Woody Schultz\\', \\'gender\\': 0, \\'department\\': \\'Crew\\', \\'job\\': \\'Stunts\\', \\'credit_id\\': \\'52fe48009251416c750aca05\\', \\'id\\': 42288}, {\\'name\\': \\'Linda DeVetta\\', \\'gender\\': 0, \\'department\\': \\'Costume & Make-Up\\', \\'job\\': \\'Makeup Artist\\', \\'credit_id\\': \\'5592aefb92514152de0010f5\\', \\'id\\': 29067}, {\\'name\\': \\'Linda DeVetta\\', \\'gender\\': 0, \\'department\\': \\'Costume & Make-Up\\', \\'job\\': \\'Hairstylist\\', \\'credit_id\\': \\'5592afa492514152de00112c\\', \\'id\\': 29067}, {\\'name\\': \\'Richard Bluck\\', \\'gender\\': 2, \\'department\\': \\'Camera\\', \\'job\\': \\'Camera Operator\\', \\'credit_id\\': \\'54959ed592514130fc002e5d\\', \\'id\\': 33302}, {\\'name\\': \\'Simon Bright\\', \\'gender\\': 2, \\'department\\': \\'Art\\', \\'job\\': \\'Art Direction\\', \\'credit_id\\': \\'539c4891c3a36810ba002147\\', \\'id\\': 33303}, {\\'name\\': \\'Richard Martin\\', \\'gender\\': 0, \\'department\\': \\'Visual Effects\\', \\'job\\': \\'Visual Effects Supervisor\\', \\'credit_id\\': \\'54959c069251417a81001f3a\\', \\'id\\': 113145}, {\\'name\\': \\'Steve R. Moore\\', \\'gender\\': 2, \\'department\\': \\'Crew\\', \\'job\\': \\'Visual Effects Editor\\', \\'credit_id\\': \\'54959a0dc3a3680ff5002c8d\\', \\'id\\': 58188}, {\\'name\\': \\'John Refoua\\', \\'gender\\': 2, \\'department\\': \\'Editing\\', \\'job\\': \\'Editor\\', \\'credit_id\\': \\'52fe48009251416c750aca1d\\', \\'id\\': 58871}, {\\'name\\': \\'Karl J. Martin\\', \\'gender\\': 0, \\'department\\': \\'Art\\', \\'job\\': \\'Set Designer\\', \\'credit_id\\': \\'54491a4dc3a3680fc30018ca\\', \\'id\\': 92359}, {\\'name\\': \\'Chiling Lin\\', \\'gender\\': 1, \\'department\\': \\'Camera\\', \\'job\\': \\'Director of Photography\\', \\'credit_id\\': \\'52fe48009251416c750aca35\\', \\'id\\': 72201}, {\\'name\\': \\'Ilram Choi\\', \\'gender\\': 0, \\'department\\': \\'Crew\\', \\'job\\': \\'Stunts\\', \\'credit_id\\': \\'52fe48009251416c750ac9ff\\', \\'id\\': 89714}, {\\'name\\': \\'Steven Quale\\', \\'gender\\': 2, \\'department\\': \\'Visual Effects\\', \\'job\\': \\'Visual Effects Supervisor\\', \\'credit_id\\': \\'54959c529251416e2b004394\\', \\'id\\': 93214}, {\\'name\\': \\'Carla Meyer\\', \\'gender\\': 1, \\'department\\': \\'Crew\\', \\'job\\': \\'Dialect Coach\\', \\'credit_id\\': \\'54491edf0e0a267489001c37\\', \\'id\\': 122607}, {\\'name\\': \\'Nick Bassett\\', \\'gender\\': 2, \\'department\\': \\'Art\\', \\'job\\': \\'Art Direction\\', \\'credit_id\\': \\'539c485bc3a368653d001a3a\\', \\'id\\': 132585}, {\\'name\\': \\'Jill Cormack\\', \\'gender\\': 0, \\'department\\': \\'Art\\', \\'job\\': \\'Art Direction\\', \\'credit_id\\': \\'539c4903c3a368653d001a74\\', \\'id\\': 132596}, {\\'name\\': \\'Andy McLaren\\', \\'gender\\': 0, \\'department\\': \\'Art\\', \\'job\\': \\'Art Direction\\', \\'credit_id\\': \\'539c4967c3a368653d001a94\\', \\'id\\': 132604}, {\\'name\\': \\'Terry Notary\\', \\'gender\\': 0, \\'department\\': \\'Crew\\', \\'job\\': \\'Motion Capture Artist\\', \\'credit_id\\': \\'52fe48009251416c750aca45\\', \\'id\\': 236696}, {\\'name\\': \\'Garrett Warren\\', \\'gender\\': 2, \\'department\\': \\'Crew\\', \\'job\\': \\'Stunt Coordinator\\', \\'credit_id\\': \\'54959e02c3a3680fc60027d2\\', \\'id\\': 956198}, {\\'name\\': \\'Jonathan Rothbart\\', \\'gender\\': 2, \\'department\\': \\'Visual Effects\\', \\'job\\': \\'Visual Effects Supervisor\\', \\'credit_id\\': \\'54959ca3c3a3686ae300438c\\', \\'id\\': 957874}, {\\'name\\': \\'Stefan Dechant\\', \\'gender\\': 0, \\'department\\': \\'Art\\', \\'job\\': \\'Supervising Art Director\\', \\'credit_id\\': \\'570b6f519251412c74001b2f\\', \\'id\\': 957889}, {\\'name\\': \\'Todd Cherniawsky\\', \\'gender\\': 2, \\'department\\': \\'Art\\', \\'job\\': \\'Supervising Art Director\\', \\'credit_id\\': \\'570b6f62c3a3680b77007460\\', \\'id\\': 959555}, {\\'name\\': \\'Miranda Rivers\\', \\'gender\\': 0, \\'department\\': \\'Production\\', \\'job\\': \\'Casting\\', \\'credit_id\\': \\'539c4a3ac3a36810da0021cc\\', \\'id\\': 1016177}, {\\'name\\': \\'Robert Stromberg\\', \\'gender\\': 0, \\'department\\': \\'Art\\', \\'job\\': \\'Production Design\\', \\'credit_id\\': \\'539c482cc3a36810c1002062\\', \\'id\\': 1032536}, {\\'name\\': \\'John Harding\\', \\'gender\\': 2, \\'department\\': \\'Costume & Make-Up\\', \\'job\\': \\'Costume Design\\', \\'credit_id\\': \\'539c4b65c3a36810c9002125\\', \\'id\\': 1071680}, {\\'name\\': \\'Roberto De Angelis\\', \\'gender\\': 0, \\'department\\': \\'Camera\\', \\'job\\': \\'Steadicam Operator\\', \\'credit_id\\': \\'54959e6692514130fc002e4e\\', \\'id\\': 1177364}, {\\'name\\': \\'Mike Smithson\\', \\'gender\\': 2, \\'department\\': \\'Costume & Make-Up\\', \\'job\\': \\'Makeup Department Head\\', \\'credit_id\\': \\'539c49f1c3a368653d001aac\\', \\'id\\': 1202850}, {\\'name\\': \\'Alain Lalanne\\', \\'gender\\': 0, \\'department\\': \\'Visual Effects\\', \\'job\\': \\'Visual Effects Producer\\', \\'credit_id\\': \\'5495999ec3a3686ae100460c\\', \\'id\\': 1204668}, {\\'name\\': \\'Lucas Salton\\', \\'gender\\': 0, \\'department\\': \\'Visual Effects\\', \\'job\\': \\'Visual Effects Supervisor\\', \\'credit_id\\': \\'54959cdfc3a3681153002729\\', \\'id\\': 1206410}, {\\'name\\': \\'Janace Tashjian\\', \\'gender\\': 0, \\'department\\': \\'Crew\\', \\'job\\': \\'Post Production Supervisor\\', \\'credit_id\\': \\'549596239251417a81001eae\\', \\'id\\': 1234266}, {\\'name\\': \\'Stephen Rosenbaum\\', \\'gender\\': 0, \\'department\\': \\'Visual Effects\\', \\'job\\': \\'Visual Effects Supervisor\\', \\'credit_id\\': \\'54959c859251416e1e003efe\\', \\'id\\': 1271932}, {\\'name\\': \\'Frankie Karena\\', \\'gender\\': 0, \\'department\\': \\'Costume & Make-Up\\', \\'job\\': \\'Makeup Artist\\', \\'credit_id\\': \\'5592af28c3a368775a00105f\\', \\'id\\': 1310064}, {\\'name\\': \\'Lisa Lovaas\\', \\'gender\\': 1, \\'department\\': \\'Costume & Make-Up\\', \\'job\\': \\'Costume Supervisor\\', \\'credit_id\\': \\'539c4adfc3a36810e300203b\\', \\'id\\': 1319844}, {\\'name\\': \\'Jonathan Fawkner\\', \\'gender\\': 0, \\'department\\': \\'Visual Effects\\', \\'job\\': \\'Visual Effects Supervisor\\', \\'credit_id\\': \\'54959b579251416e2b004371\\', \\'id\\': 1327028}, {\\'name\\': \\'Robert Bavin\\', \\'gender\\': 0, \\'department\\': \\'Art\\', \\'job\\': \\'Art Direction\\', \\'credit_id\\': \\'539c48a7c3a36810b5001fa7\\', \\'id\\': 1330561}, {\\'name\\': \\'Anthony Almaraz\\', \\'gender\\': 0, \\'department\\': \\'Costume & Make-Up\\', \\'job\\': \\'Costume Supervisor\\', \\'credit_id\\': \\'539c4a71c3a36810da0021e0\\', \\'id\\': 1330567}, {\\'name\\': \\'Carolyn M. Fenton\\', \\'gender\\': 0, \\'department\\': \\'Costume & Make-Up\\', \\'job\\': \\'Costume Supervisor\\', \\'credit_id\\': \\'539c4a8ac3a36810ba0021e4\\', \\'id\\': 1330570}, {\\'name\\': \\'Beth Koenigsberg\\', \\'gender\\': 0, \\'department\\': \\'Costume & Make-Up\\', \\'job\\': \\'Costume Supervisor\\', \\'credit_id\\': \\'539c4ab6c3a36810da0021f0\\', \\'id\\': 1330574}, {\\'name\\': \\'Sam Page\\', \\'gender\\': 0, \\'department\\': \\'Art\\', \\'job\\': \\'Set Designer\\', \\'credit_id\\': \\'54491ab70e0a267480001ba2\\', \\'id\\': 1336191}, {\\'name\\': \\'Tex Kadonaga\\', \\'gender\\': 0, \\'department\\': \\'Art\\', \\'job\\': \\'Set Designer\\', \\'credit_id\\': \\'544919d9c3a3680fc30018bd\\', \\'id\\': 1339441}, {\\'name\\': \\'Kim Foscato\\', \\'gender\\': 0, \\'department\\': \\'Editing\\', \\'job\\': \\'Dialogue Editor\\', \\'credit_id\\': \\'54491cf50e0a267483001b0c\\', \\'id\\': 1352422}, {\\'name\\': \\'Tammy S. Lee\\', \\'gender\\': 0, \\'department\\': \\'Art\\', \\'job\\': \\'Set Designer\\', \\'credit_id\\': \\'544919f40e0a26748c001b09\\', \\'id\\': 1352962}, {\\'name\\': \\'Denny Caira\\', \\'gender\\': 0, \\'department\\': \\'Crew\\', \\'job\\': \\'Transportation Coordinator\\', \\'credit_id\\': \\'5495a115c3a3680ff5002d71\\', \\'id\\': 1357070}, {\\'name\\': \\'James Waitkus\\', \\'gender\\': 0, \\'department\\': \\'Crew\\', \\'job\\': \\'Transportation Coordinator\\', \\'credit_id\\': \\'5495a12f92514130fc002e94\\', \\'id\\': 1357071}, {\\'name\\': \\'Addison Teague\\', \\'gender\\': 0, \\'department\\': \\'Sound\\', \\'job\\': \\'Supervising Sound Editor\\', \\'credit_id\\': \\'5495976fc3a36811530026b0\\', \\'id\\': 1360103}, {\\'name\\': \\'C. Scott Baker\\', \\'gender\\': 2, \\'department\\': \\'Art\\', \\'job\\': \\'Set Designer\\', \\'credit_id\\': \\'54491837c3a3680fb1001c5a\\', \\'id\\': 1376887}, {\\'name\\': \\'Luke Caska\\', \\'gender\\': 0, \\'department\\': \\'Art\\', \\'job\\': \\'Set Designer\\', \\'credit_id\\': \\'54491878c3a3680fb4001c9d\\', \\'id\\': 1376888}, {\\'name\\': \\'David Chow\\', \\'gender\\': 0, \\'department\\': \\'Art\\', \\'job\\': \\'Set Designer\\', \\'credit_id\\': \\'544918dac3a3680fa5001ae0\\', \\'id\\': 1376889}, {\\'name\\': \\'Jonathan Dyer\\', \\'gender\\': 0, \\'department\\': \\'Art\\', \\'job\\': \\'Set Designer\\', \\'credit_id\\': \\'544919110e0a267486001b68\\', \\'id\\': 1376890}, {\\'name\\': \\'Joseph Hiura\\', \\'gender\\': 0, \\'department\\': \\'Art\\', \\'job\\': \\'Set Designer\\', \\'credit_id\\': \\'54491967c3a3680faa001b5e\\', \\'id\\': 1376891}, {\\'name\\': \\'Rebecca Jellie\\', \\'gender\\': 0, \\'department\\': \\'Art\\', \\'job\\': \\'Art Department Coordinator\\', \\'credit_id\\': \\'54491997c3a3680fb1001c8a\\', \\'id\\': 1376892}, {\\'name\\': \\'Robert Andrew Johnson\\', \\'gender\\': 0, \\'department\\': \\'Art\\', \\'job\\': \\'Set Designer\\', \\'credit_id\\': \\'544919ba0e0a26748f001b42\\', \\'id\\': 1376893}, {\\'name\\': \\'Mike Stassi\\', \\'gender\\': 0, \\'department\\': \\'Art\\', \\'job\\': \\'Assistant Art Director\\', \\'credit_id\\': \\'54491b1dc3a3680faa001b8c\\', \\'id\\': 1376895}, {\\'name\\': \\'John Villarino\\', \\'gender\\': 0, \\'department\\': \\'Art\\', \\'job\\': \\'Construction Coordinator\\', \\'credit_id\\': \\'54491b79c3a3680fbb001826\\', \\'id\\': 1376897}, {\\'name\\': \\'Jeffrey Wisniewski\\', \\'gender\\': 2, \\'department\\': \\'Art\\', \\'job\\': \\'Assistant Art Director\\', \\'credit_id\\': \\'54491baec3a3680fb4001ce6\\', \\'id\\': 1376898}, {\\'name\\': \\'Cheryl Nardi\\', \\'gender\\': 0, \\'department\\': \\'Editing\\', \\'job\\': \\'Dialogue Editor\\', \\'credit_id\\': \\'54491d2fc3a3680fb4001d07\\', \\'id\\': 1376899}, {\\'name\\': \\'Marshall Winn\\', \\'gender\\': 0, \\'department\\': \\'Editing\\', \\'job\\': \\'Dialogue Editor\\', \\'credit_id\\': \\'54491d86c3a3680fa5001b2f\\', \\'id\\': 1376901}, {\\'name\\': \\'Gwendolyn Yates Whittle\\', \\'gender\\': 0, \\'department\\': \\'Sound\\', \\'job\\': \\'Supervising Sound Editor\\', \\'credit_id\\': \\'54491d9dc3a3680faa001bb0\\', \\'id\\': 1376902}, {\\'name\\': \\'William Stein\\', \\'gender\\': 0, \\'department\\': \\'Sound\\', \\'job\\': \\'Sound Re-Recording Mixer\\', \\'credit_id\\': \\'54491dc10e0a267486001bce\\', \\'id\\': 1376903}, {\\'name\\': \\'Lula Washington\\', \\'gender\\': 0, \\'department\\': \\'Crew\\', \\'job\\': \\'Choreographer\\', \\'credit_id\\': \\'54491f500e0a26747c001c07\\', \\'id\\': 1376909}, {\\'name\\': \\'Chris Del Conte\\', \\'gender\\': 0, \\'department\\': \\'Visual Effects\\', \\'job\\': \\'Visual Effects Producer\\', \\'credit_id\\': \\'549599239251412c4e002a2e\\', \\'id\\': 1391692}, {\\'name\\': \\'R. Christopher White\\', \\'gender\\': 2, \\'department\\': \\'Visual Effects\\', \\'job\\': \\'Visual Effects Supervisor\\', \\'credit_id\\': \\'54959d54c3a36831b8001d9a\\', \\'id\\': 1391695}, {\\'name\\': \\'Dan Lemmon\\', \\'gender\\': 0, \\'department\\': \\'Visual Effects\\', \\'job\\': \\'Visual Effects Supervisor\\', \\'credit_id\\': \\'54959bdf9251412c4e002a66\\', \\'id\\': 1394070}, {\\'name\\': \\'Tim Nielsen\\', \\'gender\\': 0, \\'department\\': \\'Sound\\', \\'job\\': \\'Sound Effects Editor\\', \\'credit_id\\': \\'5495971d92514132ed002922\\', \\'id\\': 1394129}, {\\'name\\': \\'Michael Mulholland\\', \\'gender\\': 0, \\'department\\': \\'Crew\\', \\'job\\': \\'CG Supervisor\\', \\'credit_id\\': \\'5592b25792514152cc0011aa\\', \\'id\\': 1394286}, {\\'name\\': \\'Thomas Nittmann\\', \\'gender\\': 0, \\'department\\': \\'Crew\\', \\'job\\': \\'Visual Effects Editor\\', \\'credit_id\\': \\'54959a329251416e2b004355\\', \\'id\\': 1394750}, {\\'name\\': \\'Edson Williams\\', \\'gender\\': 0, \\'department\\': \\'Visual Effects\\', \\'job\\': \\'Visual Effects Supervisor\\', \\'credit_id\\': \\'54959d6dc3a3686ae9004401\\', \\'id\\': 1394755}, {\\'name\\': \\'Christine Carr\\', \\'gender\\': 0, \\'department\\': \\'Editing\\', \\'job\\': \\'Digital Intermediate\\', \\'credit_id\\': \\'5495a08fc3a3686ae300441c\\', \\'id\\': 1394953}, {\\'name\\': \\'John Bruno\\', \\'gender\\': 0, \\'department\\': \\'Visual Effects\\', \\'job\\': \\'Visual Effects Supervisor\\', \\'credit_id\\': \\'55402d659251413d6d000249\\', \\'id\\': 1395269}, {\\'name\\': \\'David Emmerichs\\', \\'gender\\': 0, \\'department\\': \\'Camera\\', \\'job\\': \\'Steadicam Operator\\', \\'credit_id\\': \\'54959e7b9251416e1e003f3e\\', \\'id\\': 1398970}, {\\'name\\': \\'Christopher Scarabosio\\', \\'gender\\': 0, \\'department\\': \\'Sound\\', \\'job\\': \\'Sound Effects Editor\\', \\'credit_id\\': \\'54959734c3a3686ae10045e0\\', \\'id\\': 1400906}, {\\'name\\': \\'Jennifer Teves\\', \\'gender\\': 0, \\'department\\': \\'Production\\', \\'job\\': \\'Production Supervisor\\', \\'credit_id\\': \\'549595dd92514130fc002d79\\', \\'id\\': 1401784}, {\\'name\\': \\'Brigitte Yorke\\', \\'gender\\': 0, \\'department\\': \\'Production\\', \\'job\\': \\'Production Manager\\', \\'credit_id\\': \\'549596009251413af70028cc\\', \\'id\\': 1401785}, {\\'name\\': \\'Ken Fischer\\', \\'gender\\': 0, \\'department\\': \\'Sound\\', \\'job\\': \\'Sound Effects Editor\\', \\'credit_id\\': \\'549596e892514130fc002d99\\', \\'id\\': 1401786}, {\\'name\\': \\'Iain Hutton\\', \\'gender\\': 0, \\'department\\': \\'Crew\\', \\'job\\': \\'Special Effects Coordinator\\', \\'credit_id\\': \\'549598229251412c4e002a1c\\', \\'id\\': 1401787}, {\\'name\\': \\'Steve Ingram\\', \\'gender\\': 0, \\'department\\': \\'Crew\\', \\'job\\': \\'Special Effects Coordinator\\', \\'credit_id\\': \\'549598349251416e2b00432b\\', \\'id\\': 1401788}, {\\'name\\': \\'Joyce Cox\\', \\'gender\\': 0, \\'department\\': \\'Visual Effects\\', \\'job\\': \\'Visual Effects Producer\\', \\'credit_id\\': \\'54959905c3a3686ae3004324\\', \\'id\\': 1401789}, {\\'name\\': \\'Jenny Foster\\', \\'gender\\': 0, \\'department\\': \\'Visual Effects\\', \\'job\\': \\'Visual Effects Producer\\', \\'credit_id\\': \\'5495994b92514132ed002951\\', \\'id\\': 1401790}, {\\'name\\': \\'Christopher Marino\\', \\'gender\\': 0, \\'department\\': \\'Crew\\', \\'job\\': \\'Visual Effects Editor\\', \\'credit_id\\': \\'549599cbc3a3686ae1004613\\', \\'id\\': 1401791}, {\\'name\\': \\'Jim Milton\\', \\'gender\\': 0, \\'department\\': \\'Crew\\', \\'job\\': \\'Visual Effects Editor\\', \\'credit_id\\': \\'549599f2c3a3686ae100461e\\', \\'id\\': 1401792}, {\\'name\\': \\'Cyndi Ochs\\', \\'gender\\': 0, \\'department\\': \\'Visual Effects\\', \\'job\\': \\'Visual Effects Producer\\', \\'credit_id\\': \\'54959a51c3a3686af3003eb5\\', \\'id\\': 1401793}, {\\'name\\': \\'Lucas Putnam\\', \\'gender\\': 0, \\'department\\': \\'Crew\\', \\'job\\': \\'Visual Effects Editor\\', \\'credit_id\\': \\'54959a7cc3a36811530026f4\\', \\'id\\': 1401794}, {\\'name\\': \"Anthony \\'Max\\' Ivins\", \\'gender\\': 0, \\'department\\': \\'Visual Effects\\', \\'job\\': \\'Visual Effects Supervisor\\', \\'credit_id\\': \\'54959b91c3a3680ff5002cb4\\', \\'id\\': 1401795}, {\\'name\\': \\'John Knoll\\', \\'gender\\': 0, \\'department\\': \\'Visual Effects\\', \\'job\\': \\'Visual Effects Supervisor\\', \\'credit_id\\': \\'54959bb69251412c4e002a5f\\', \\'id\\': 1401796}, {\\'name\\': \\'Eric Saindon\\', \\'gender\\': 2, \\'department\\': \\'Visual Effects\\', \\'job\\': \\'Visual Effects Supervisor\\', \\'credit_id\\': \\'54959cbbc3a3686ae3004391\\', \\'id\\': 1401799}, {\\'name\\': \\'Wayne Stables\\', \\'gender\\': 0, \\'department\\': \\'Visual Effects\\', \\'job\\': \\'Visual Effects Supervisor\\', \\'credit_id\\': \\'54959d06c3a3686ae90043f6\\', \\'id\\': 1401800}, {\\'name\\': \\'David Stinnett\\', \\'gender\\': 0, \\'department\\': \\'Visual Effects\\', \\'job\\': \\'Visual Effects Supervisor\\', \\'credit_id\\': \\'54959d259251416e1e003f11\\', \\'id\\': 1401801}, {\\'name\\': \\'Guy Williams\\', \\'gender\\': 0, \\'department\\': \\'Visual Effects\\', \\'job\\': \\'Visual Effects Supervisor\\', \\'credit_id\\': \\'54959db49251413af7002975\\', \\'id\\': 1401803}, {\\'name\\': \\'Stuart Thorp\\', \\'gender\\': 0, \\'department\\': \\'Crew\\', \\'job\\': \\'Stunt Coordinator\\', \\'credit_id\\': \\'54959de4c3a3681153002750\\', \\'id\\': 1401804}, {\\'name\\': \\'Giles Coburn\\', \\'gender\\': 0, \\'department\\': \\'Lighting\\', \\'job\\': \\'Best Boy Electric\\', \\'credit_id\\': \\'54959ef2c3a3680fc60027f2\\', \\'id\\': 1401805}, {\\'name\\': \\'Mark Fellman\\', \\'gender\\': 2, \\'department\\': \\'Camera\\', \\'job\\': \\'Still Photographer\\', \\'credit_id\\': \\'54959f07c3a3680fc60027f9\\', \\'id\\': 1401806}, {\\'name\\': \\'Scott Sprague\\', \\'gender\\': 0, \\'department\\': \\'Lighting\\', \\'job\\': \\'Lighting Technician\\', \\'credit_id\\': \\'54959f47c3a3681153002774\\', \\'id\\': 1401807}, {\\'name\\': \\'Jeremy Hollobon\\', \\'gender\\': 0, \\'department\\': \\'Visual Effects\\', \\'job\\': \\'Animation Director\\', \\'credit_id\\': \\'54959f8cc3a36831b8001df2\\', \\'id\\': 1401808}, {\\'name\\': \\'Orlando Meunier\\', \\'gender\\': 0, \\'department\\': \\'Visual Effects\\', \\'job\\': \\'Animation Director\\', \\'credit_id\\': \\'54959fa0c3a36831b8001dfb\\', \\'id\\': 1401809}, {\\'name\\': \\'Taisuke Tanimura\\', \\'gender\\': 0, \\'department\\': \\'Visual Effects\\', \\'job\\': \\'Animation Director\\', \\'credit_id\\': \\'54959fb6c3a3686af3003f54\\', \\'id\\': 1401810}, {\\'name\\': \\'Lilia Mishel Acevedo\\', \\'gender\\': 0, \\'department\\': \\'Costume & Make-Up\\', \\'job\\': \\'Set Costumer\\', \\'credit_id\\': \\'54959fd2c3a36831b8001e02\\', \\'id\\': 1401812}, {\\'name\\': \\'Alejandro M. Hernandez\\', \\'gender\\': 0, \\'department\\': \\'Costume & Make-Up\\', \\'job\\': \\'Set Costumer\\', \\'credit_id\\': \\'54959ff9c3a3686ae300440c\\', \\'id\\': 1401814}, {\\'name\\': \\'Marvin Hall\\', \\'gender\\': 0, \\'department\\': \\'Editing\\', \\'job\\': \\'Digital Intermediate\\', \\'credit_id\\': \\'5495a0ddc3a3686ae10046fe\\', \\'id\\': 1401815}, {\\'name\\': \\'Judy Alley\\', \\'gender\\': 0, \\'department\\': \\'Production\\', \\'job\\': \\'Publicist\\', \\'credit_id\\': \\'5495a1f7c3a3686ae3004443\\', \\'id\\': 1401816}, {\\'name\\': \\'Mike Perry\\', \\'gender\\': 0, \\'department\\': \\'Crew\\', \\'job\\': \\'CG Supervisor\\', \\'credit_id\\': \\'5592b29fc3a36869d100002f\\', \\'id\\': 1418381}, {\\'name\\': \\'Andrew Morley\\', \\'gender\\': 0, \\'department\\': \\'Crew\\', \\'job\\': \\'CG Supervisor\\', \\'credit_id\\': \\'5592b23a9251415df8001081\\', \\'id\\': 1426854}, {\\'name\\': \\'Seth Engstrom\\', \\'gender\\': 0, \\'department\\': \\'Art\\', \\'job\\': \\'Conceptual Design\\', \\'credit_id\\': \\'55491e1192514104c40002d8\\', \\'id\\': 1438901}, {\\'name\\': \\'Eric Oliver\\', \\'gender\\': 0, \\'department\\': \\'Crew\\', \\'job\\': \\'Visual Effects Art Director\\', \\'credit_id\\': \\'5525d5809251417276002b06\\', \\'id\\': 1447362}, {\\'name\\': \\'Matsune Suzuki\\', \\'gender\\': 0, \\'department\\': \\'Visual Effects\\', \\'job\\': \\'Modeling\\', \\'credit_id\\': \\'554427ca925141586500312a\\', \\'id\\': 1447503}, {\\'name\\': \\'Paul Tobin\\', \\'gender\\': 0, \\'department\\': \\'Art\\', \\'job\\': \\'Art Department Manager\\', \\'credit_id\\': \\'551906889251415aab001c88\\', \\'id\\': 1447524}, {\\'name\\': \\'Roxane Griffin\\', \\'gender\\': 0, \\'department\\': \\'Costume & Make-Up\\', \\'job\\': \\'Hairstylist\\', \\'credit_id\\': \\'5592af8492514152cc0010de\\', \\'id\\': 1452643}, {\\'name\\': \\'Arun Ram-Mohan\\', \\'gender\\': 0, \\'department\\': \\'Lighting\\', \\'job\\': \\'Lighting Artist\\', \\'credit_id\\': \\'553d3c109251415852001318\\', \\'id\\': 1453938}, {\\'name\\': \\'Georgia Lockhart-Adams\\', \\'gender\\': 0, \\'department\\': \\'Costume & Make-Up\\', \\'job\\': \\'Makeup Artist\\', \\'credit_id\\': \\'5592af4692514152d5001355\\', \\'id\\': 1457305}, {\\'name\\': \\'Thrain Shadbolt\\', \\'gender\\': 0, \\'department\\': \\'Crew\\', \\'job\\': \\'CG Supervisor\\', \\'credit_id\\': \\'5592b2eac3a36877470012a5\\', \\'id\\': 1466035}, {\\'name\\': \\'Brad Alexander\\', \\'gender\\': 0, \\'department\\': \\'Crew\\', \\'job\\': \\'CG Supervisor\\', \\'credit_id\\': \\'5592b032c3a36877450015f1\\', \\'id\\': 1483220}, {\\'name\\': \\'Shadi Almassizadeh\\', \\'gender\\': 0, \\'department\\': \\'Crew\\', \\'job\\': \\'CG Supervisor\\', \\'credit_id\\': \\'5592b05592514152d80012f6\\', \\'id\\': 1483221}, {\\'name\\': \\'Simon Clutterbuck\\', \\'gender\\': 0, \\'department\\': \\'Crew\\', \\'job\\': \\'CG Supervisor\\', \\'credit_id\\': \\'5592b090c3a36877570010b5\\', \\'id\\': 1483222}, {\\'name\\': \\'Graeme Demmocks\\', \\'gender\\': 0, \\'department\\': \\'Crew\\', \\'job\\': \\'CG Supervisor\\', \\'credit_id\\': \\'5592b0dbc3a368774b00112c\\', \\'id\\': 1483223}, {\\'name\\': \\'Adrian Fernandes\\', \\'gender\\': 0, \\'department\\': \\'Crew\\', \\'job\\': \\'CG Supervisor\\', \\'credit_id\\': \\'5592b0fe92514152db0010c1\\', \\'id\\': 1483224}, {\\'name\\': \\'Mitch Gates\\', \\'gender\\': 0, \\'department\\': \\'Crew\\', \\'job\\': \\'CG Supervisor\\', \\'credit_id\\': \\'5592b11f9251415df8001059\\', \\'id\\': 1483225}, {\\'name\\': \\'Jerry Kung\\', \\'gender\\': 0, \\'department\\': \\'Crew\\', \\'job\\': \\'CG Supervisor\\', \\'credit_id\\': \\'5592b15dc3a3687745001645\\', \\'id\\': 1483226}, {\\'name\\': \\'Andy Lomas\\', \\'gender\\': 0, \\'department\\': \\'Crew\\', \\'job\\': \\'CG Supervisor\\', \\'credit_id\\': \\'5592b18e925141645a0004ae\\', \\'id\\': 1483227}, {\\'name\\': \\'Sebastian Marino\\', \\'gender\\': 0, \\'department\\': \\'Crew\\', \\'job\\': \\'CG Supervisor\\', \\'credit_id\\': \\'5592b1bfc3a368775d0010e7\\', \\'id\\': 1483228}, {\\'name\\': \\'Matthias Menz\\', \\'gender\\': 0, \\'department\\': \\'Crew\\', \\'job\\': \\'CG Supervisor\\', \\'credit_id\\': \\'5592b2049251415df8001078\\', \\'id\\': 1483229}, {\\'name\\': \\'Sergei Nevshupov\\', \\'gender\\': 0, \\'department\\': \\'Crew\\', \\'job\\': \\'CG Supervisor\\', \\'credit_id\\': \\'5592b27b92514152d800136a\\', \\'id\\': 1483230}, {\\'name\\': \\'Philippe Rebours\\', \\'gender\\': 0, \\'department\\': \\'Crew\\', \\'job\\': \\'CG Supervisor\\', \\'credit_id\\': \\'5592b2c3c3a36869e800003c\\', \\'id\\': 1483231}, {\\'name\\': \\'Michael Takarangi\\', \\'gender\\': 0, \\'department\\': \\'Crew\\', \\'job\\': \\'CG Supervisor\\', \\'credit_id\\': \\'5592b317c3a36877470012af\\', \\'id\\': 1483232}, {\\'name\\': \\'David Weitzberg\\', \\'gender\\': 0, \\'department\\': \\'Crew\\', \\'job\\': \\'CG Supervisor\\', \\'credit_id\\': \\'5592b345c3a36877470012bb\\', \\'id\\': 1483233}, {\\'name\\': \\'Ben White\\', \\'gender\\': 0, \\'department\\': \\'Crew\\', \\'job\\': \\'CG Supervisor\\', \\'credit_id\\': \\'5592b37cc3a368775100113b\\', \\'id\\': 1483234}, {\\'name\\': \\'Min Windle\\', \\'gender\\': 1, \\'department\\': \\'Crew\\', \\'job\\': \\'Stunts\\', \\'credit_id\\': \\'573c8e2f9251413f5d000094\\', \\'id\\': 1621932}]'"
      ]
     },
     "execution_count": 15,
     "metadata": {},
     "output_type": "execute_result"
    }
   ],
   "source": [
    "movies['crew'][0]"
   ]
  },
  {
   "cell_type": "code",
   "execution_count": 16,
   "id": "fbcf7a0c",
   "metadata": {},
   "outputs": [],
   "source": [
    "import ast"
   ]
  },
  {
   "cell_type": "code",
   "execution_count": 17,
   "id": "533b3648",
   "metadata": {},
   "outputs": [],
   "source": [
    "def fetch_director(obj):\n",
    "    L=[]\n",
    "    for i in ast.literal_eval(obj):\n",
    "        if i['job']=='Director':\n",
    "            L.append(i['name'])\n",
    "    return L"
   ]
  },
  {
   "cell_type": "code",
   "execution_count": null,
   "id": "1dbe634e",
   "metadata": {},
   "outputs": [],
   "source": []
  },
  {
   "cell_type": "code",
   "execution_count": 18,
   "id": "4ea26759",
   "metadata": {},
   "outputs": [],
   "source": [
    "movies['crew']=movies['crew'].apply(fetch_director)"
   ]
  },
  {
   "cell_type": "code",
   "execution_count": 19,
   "id": "02a90011",
   "metadata": {},
   "outputs": [
    {
     "data": {
      "text/html": [
       "<div>\n",
       "<style scoped>\n",
       "    .dataframe tbody tr th:only-of-type {\n",
       "        vertical-align: middle;\n",
       "    }\n",
       "\n",
       "    .dataframe tbody tr th {\n",
       "        vertical-align: top;\n",
       "    }\n",
       "\n",
       "    .dataframe thead th {\n",
       "        text-align: right;\n",
       "    }\n",
       "</style>\n",
       "<table border=\"1\" class=\"dataframe\">\n",
       "  <thead>\n",
       "    <tr style=\"text-align: right;\">\n",
       "      <th></th>\n",
       "      <th>id</th>\n",
       "      <th>title</th>\n",
       "      <th>overview</th>\n",
       "      <th>genres</th>\n",
       "      <th>keywords</th>\n",
       "      <th>cast</th>\n",
       "      <th>crew</th>\n",
       "    </tr>\n",
       "  </thead>\n",
       "  <tbody>\n",
       "    <tr>\n",
       "      <th>0</th>\n",
       "      <td>19995</td>\n",
       "      <td>Avatar</td>\n",
       "      <td>In the 22nd century, a paraplegic Marine is di...</td>\n",
       "      <td>Action Adventure Fantasy Science Fiction</td>\n",
       "      <td>culture clash future space war space colony so...</td>\n",
       "      <td>Sam Worthington Zoe Saldana Sigourney Weaver S...</td>\n",
       "      <td>[James Cameron]</td>\n",
       "    </tr>\n",
       "    <tr>\n",
       "      <th>1</th>\n",
       "      <td>285</td>\n",
       "      <td>Pirates of the Caribbean: At World's End</td>\n",
       "      <td>Captain Barbossa, long believed to be dead, ha...</td>\n",
       "      <td>Adventure Fantasy Action</td>\n",
       "      <td>ocean drug abuse exotic island east india trad...</td>\n",
       "      <td>Johnny Depp Orlando Bloom Keira Knightley Stel...</td>\n",
       "      <td>[Gore Verbinski]</td>\n",
       "    </tr>\n",
       "    <tr>\n",
       "      <th>2</th>\n",
       "      <td>206647</td>\n",
       "      <td>Spectre</td>\n",
       "      <td>A cryptic message from Bond’s past sends him o...</td>\n",
       "      <td>Action Adventure Crime</td>\n",
       "      <td>spy based on novel secret agent sequel mi6</td>\n",
       "      <td>Daniel Craig Christoph Waltz L\\u00e9a Seydoux ...</td>\n",
       "      <td>[Sam Mendes]</td>\n",
       "    </tr>\n",
       "    <tr>\n",
       "      <th>3</th>\n",
       "      <td>49026</td>\n",
       "      <td>The Dark Knight Rises</td>\n",
       "      <td>Following the death of District Attorney Harve...</td>\n",
       "      <td>Action Crime Drama Thriller</td>\n",
       "      <td>dc comics crime fighter terrorist secret ident...</td>\n",
       "      <td>Christian Bale Michael Caine Gary Oldman Anne ...</td>\n",
       "      <td>[Christopher Nolan]</td>\n",
       "    </tr>\n",
       "    <tr>\n",
       "      <th>4</th>\n",
       "      <td>49529</td>\n",
       "      <td>John Carter</td>\n",
       "      <td>John Carter is a war-weary, former military ca...</td>\n",
       "      <td>Action Adventure Science Fiction</td>\n",
       "      <td>based on novel mars medallion space travel pri...</td>\n",
       "      <td>Taylor Kitsch Lynn Collins Samantha Morton Wil...</td>\n",
       "      <td>[Andrew Stanton]</td>\n",
       "    </tr>\n",
       "  </tbody>\n",
       "</table>\n",
       "</div>"
      ],
      "text/plain": [
       "       id                                     title  \\\n",
       "0   19995                                    Avatar   \n",
       "1     285  Pirates of the Caribbean: At World's End   \n",
       "2  206647                                   Spectre   \n",
       "3   49026                     The Dark Knight Rises   \n",
       "4   49529                               John Carter   \n",
       "\n",
       "                                            overview  \\\n",
       "0  In the 22nd century, a paraplegic Marine is di...   \n",
       "1  Captain Barbossa, long believed to be dead, ha...   \n",
       "2  A cryptic message from Bond’s past sends him o...   \n",
       "3  Following the death of District Attorney Harve...   \n",
       "4  John Carter is a war-weary, former military ca...   \n",
       "\n",
       "                                     genres  \\\n",
       "0  Action Adventure Fantasy Science Fiction   \n",
       "1                  Adventure Fantasy Action   \n",
       "2                    Action Adventure Crime   \n",
       "3               Action Crime Drama Thriller   \n",
       "4          Action Adventure Science Fiction   \n",
       "\n",
       "                                            keywords  \\\n",
       "0  culture clash future space war space colony so...   \n",
       "1  ocean drug abuse exotic island east india trad...   \n",
       "2         spy based on novel secret agent sequel mi6   \n",
       "3  dc comics crime fighter terrorist secret ident...   \n",
       "4  based on novel mars medallion space travel pri...   \n",
       "\n",
       "                                                cast                 crew  \n",
       "0  Sam Worthington Zoe Saldana Sigourney Weaver S...      [James Cameron]  \n",
       "1  Johnny Depp Orlando Bloom Keira Knightley Stel...     [Gore Verbinski]  \n",
       "2  Daniel Craig Christoph Waltz L\\u00e9a Seydoux ...         [Sam Mendes]  \n",
       "3  Christian Bale Michael Caine Gary Oldman Anne ...  [Christopher Nolan]  \n",
       "4  Taylor Kitsch Lynn Collins Samantha Morton Wil...     [Andrew Stanton]  "
      ]
     },
     "execution_count": 19,
     "metadata": {},
     "output_type": "execute_result"
    }
   ],
   "source": [
    "movies.head()"
   ]
  },
  {
   "cell_type": "code",
   "execution_count": 20,
   "id": "5ad65c7e",
   "metadata": {
    "scrolled": true
   },
   "outputs": [],
   "source": [
    "#gpt\n",
    "movies['overview'] = movies['overview'].apply(lambda x: ' '.join(x) if isinstance(x, list) else x)\n",
    "movies['genres'] = movies['genres'].apply(lambda x: ' '.join(x) if isinstance(x, list) else x)\n",
    "movies['keywords'] = movies['keywords'].apply(lambda x: ' '.join(x) if isinstance(x, list) else x)\n",
    "movies['cast'] = movies['cast'].apply(lambda x: ' '.join(x) if isinstance(x, list) else x)\n",
    "movies['crew'] = movies['crew'].apply(lambda x: ' '.join(x) if isinstance(x, list) else x)\n"
   ]
  },
  {
   "cell_type": "code",
   "execution_count": 21,
   "id": "2c4f5cd9",
   "metadata": {},
   "outputs": [
    {
     "data": {
      "text/html": [
       "<div>\n",
       "<style scoped>\n",
       "    .dataframe tbody tr th:only-of-type {\n",
       "        vertical-align: middle;\n",
       "    }\n",
       "\n",
       "    .dataframe tbody tr th {\n",
       "        vertical-align: top;\n",
       "    }\n",
       "\n",
       "    .dataframe thead th {\n",
       "        text-align: right;\n",
       "    }\n",
       "</style>\n",
       "<table border=\"1\" class=\"dataframe\">\n",
       "  <thead>\n",
       "    <tr style=\"text-align: right;\">\n",
       "      <th></th>\n",
       "      <th>id</th>\n",
       "      <th>title</th>\n",
       "      <th>overview</th>\n",
       "      <th>genres</th>\n",
       "      <th>keywords</th>\n",
       "      <th>cast</th>\n",
       "      <th>crew</th>\n",
       "    </tr>\n",
       "  </thead>\n",
       "  <tbody>\n",
       "    <tr>\n",
       "      <th>0</th>\n",
       "      <td>19995</td>\n",
       "      <td>Avatar</td>\n",
       "      <td>In the 22nd century, a paraplegic Marine is di...</td>\n",
       "      <td>Action Adventure Fantasy Science Fiction</td>\n",
       "      <td>culture clash future space war space colony so...</td>\n",
       "      <td>Sam Worthington Zoe Saldana Sigourney Weaver S...</td>\n",
       "      <td>James Cameron</td>\n",
       "    </tr>\n",
       "    <tr>\n",
       "      <th>1</th>\n",
       "      <td>285</td>\n",
       "      <td>Pirates of the Caribbean: At World's End</td>\n",
       "      <td>Captain Barbossa, long believed to be dead, ha...</td>\n",
       "      <td>Adventure Fantasy Action</td>\n",
       "      <td>ocean drug abuse exotic island east india trad...</td>\n",
       "      <td>Johnny Depp Orlando Bloom Keira Knightley Stel...</td>\n",
       "      <td>Gore Verbinski</td>\n",
       "    </tr>\n",
       "    <tr>\n",
       "      <th>2</th>\n",
       "      <td>206647</td>\n",
       "      <td>Spectre</td>\n",
       "      <td>A cryptic message from Bond’s past sends him o...</td>\n",
       "      <td>Action Adventure Crime</td>\n",
       "      <td>spy based on novel secret agent sequel mi6</td>\n",
       "      <td>Daniel Craig Christoph Waltz L\\u00e9a Seydoux ...</td>\n",
       "      <td>Sam Mendes</td>\n",
       "    </tr>\n",
       "    <tr>\n",
       "      <th>3</th>\n",
       "      <td>49026</td>\n",
       "      <td>The Dark Knight Rises</td>\n",
       "      <td>Following the death of District Attorney Harve...</td>\n",
       "      <td>Action Crime Drama Thriller</td>\n",
       "      <td>dc comics crime fighter terrorist secret ident...</td>\n",
       "      <td>Christian Bale Michael Caine Gary Oldman Anne ...</td>\n",
       "      <td>Christopher Nolan</td>\n",
       "    </tr>\n",
       "    <tr>\n",
       "      <th>4</th>\n",
       "      <td>49529</td>\n",
       "      <td>John Carter</td>\n",
       "      <td>John Carter is a war-weary, former military ca...</td>\n",
       "      <td>Action Adventure Science Fiction</td>\n",
       "      <td>based on novel mars medallion space travel pri...</td>\n",
       "      <td>Taylor Kitsch Lynn Collins Samantha Morton Wil...</td>\n",
       "      <td>Andrew Stanton</td>\n",
       "    </tr>\n",
       "  </tbody>\n",
       "</table>\n",
       "</div>"
      ],
      "text/plain": [
       "       id                                     title  \\\n",
       "0   19995                                    Avatar   \n",
       "1     285  Pirates of the Caribbean: At World's End   \n",
       "2  206647                                   Spectre   \n",
       "3   49026                     The Dark Knight Rises   \n",
       "4   49529                               John Carter   \n",
       "\n",
       "                                            overview  \\\n",
       "0  In the 22nd century, a paraplegic Marine is di...   \n",
       "1  Captain Barbossa, long believed to be dead, ha...   \n",
       "2  A cryptic message from Bond’s past sends him o...   \n",
       "3  Following the death of District Attorney Harve...   \n",
       "4  John Carter is a war-weary, former military ca...   \n",
       "\n",
       "                                     genres  \\\n",
       "0  Action Adventure Fantasy Science Fiction   \n",
       "1                  Adventure Fantasy Action   \n",
       "2                    Action Adventure Crime   \n",
       "3               Action Crime Drama Thriller   \n",
       "4          Action Adventure Science Fiction   \n",
       "\n",
       "                                            keywords  \\\n",
       "0  culture clash future space war space colony so...   \n",
       "1  ocean drug abuse exotic island east india trad...   \n",
       "2         spy based on novel secret agent sequel mi6   \n",
       "3  dc comics crime fighter terrorist secret ident...   \n",
       "4  based on novel mars medallion space travel pri...   \n",
       "\n",
       "                                                cast               crew  \n",
       "0  Sam Worthington Zoe Saldana Sigourney Weaver S...      James Cameron  \n",
       "1  Johnny Depp Orlando Bloom Keira Knightley Stel...     Gore Verbinski  \n",
       "2  Daniel Craig Christoph Waltz L\\u00e9a Seydoux ...         Sam Mendes  \n",
       "3  Christian Bale Michael Caine Gary Oldman Anne ...  Christopher Nolan  \n",
       "4  Taylor Kitsch Lynn Collins Samantha Morton Wil...     Andrew Stanton  "
      ]
     },
     "execution_count": 21,
     "metadata": {},
     "output_type": "execute_result"
    }
   ],
   "source": [
    "movies.head()"
   ]
  },
  {
   "cell_type": "code",
   "execution_count": 22,
   "id": "813256eb",
   "metadata": {},
   "outputs": [],
   "source": [
    "movies['tags'] = movies['overview'] + ' ' + movies['genres'] + ' ' + movies['keywords'] + ' ' + movies['cast'] + ' ' + movies['crew']"
   ]
  },
  {
   "cell_type": "code",
   "execution_count": 23,
   "id": "7c611c1b",
   "metadata": {},
   "outputs": [
    {
     "data": {
      "text/html": [
       "<div>\n",
       "<style scoped>\n",
       "    .dataframe tbody tr th:only-of-type {\n",
       "        vertical-align: middle;\n",
       "    }\n",
       "\n",
       "    .dataframe tbody tr th {\n",
       "        vertical-align: top;\n",
       "    }\n",
       "\n",
       "    .dataframe thead th {\n",
       "        text-align: right;\n",
       "    }\n",
       "</style>\n",
       "<table border=\"1\" class=\"dataframe\">\n",
       "  <thead>\n",
       "    <tr style=\"text-align: right;\">\n",
       "      <th></th>\n",
       "      <th>id</th>\n",
       "      <th>title</th>\n",
       "      <th>overview</th>\n",
       "      <th>genres</th>\n",
       "      <th>keywords</th>\n",
       "      <th>cast</th>\n",
       "      <th>crew</th>\n",
       "      <th>tags</th>\n",
       "    </tr>\n",
       "  </thead>\n",
       "  <tbody>\n",
       "    <tr>\n",
       "      <th>0</th>\n",
       "      <td>19995</td>\n",
       "      <td>Avatar</td>\n",
       "      <td>In the 22nd century, a paraplegic Marine is di...</td>\n",
       "      <td>Action Adventure Fantasy Science Fiction</td>\n",
       "      <td>culture clash future space war space colony so...</td>\n",
       "      <td>Sam Worthington Zoe Saldana Sigourney Weaver S...</td>\n",
       "      <td>James Cameron</td>\n",
       "      <td>In the 22nd century, a paraplegic Marine is di...</td>\n",
       "    </tr>\n",
       "    <tr>\n",
       "      <th>1</th>\n",
       "      <td>285</td>\n",
       "      <td>Pirates of the Caribbean: At World's End</td>\n",
       "      <td>Captain Barbossa, long believed to be dead, ha...</td>\n",
       "      <td>Adventure Fantasy Action</td>\n",
       "      <td>ocean drug abuse exotic island east india trad...</td>\n",
       "      <td>Johnny Depp Orlando Bloom Keira Knightley Stel...</td>\n",
       "      <td>Gore Verbinski</td>\n",
       "      <td>Captain Barbossa, long believed to be dead, ha...</td>\n",
       "    </tr>\n",
       "    <tr>\n",
       "      <th>2</th>\n",
       "      <td>206647</td>\n",
       "      <td>Spectre</td>\n",
       "      <td>A cryptic message from Bond’s past sends him o...</td>\n",
       "      <td>Action Adventure Crime</td>\n",
       "      <td>spy based on novel secret agent sequel mi6</td>\n",
       "      <td>Daniel Craig Christoph Waltz L\\u00e9a Seydoux ...</td>\n",
       "      <td>Sam Mendes</td>\n",
       "      <td>A cryptic message from Bond’s past sends him o...</td>\n",
       "    </tr>\n",
       "    <tr>\n",
       "      <th>3</th>\n",
       "      <td>49026</td>\n",
       "      <td>The Dark Knight Rises</td>\n",
       "      <td>Following the death of District Attorney Harve...</td>\n",
       "      <td>Action Crime Drama Thriller</td>\n",
       "      <td>dc comics crime fighter terrorist secret ident...</td>\n",
       "      <td>Christian Bale Michael Caine Gary Oldman Anne ...</td>\n",
       "      <td>Christopher Nolan</td>\n",
       "      <td>Following the death of District Attorney Harve...</td>\n",
       "    </tr>\n",
       "    <tr>\n",
       "      <th>4</th>\n",
       "      <td>49529</td>\n",
       "      <td>John Carter</td>\n",
       "      <td>John Carter is a war-weary, former military ca...</td>\n",
       "      <td>Action Adventure Science Fiction</td>\n",
       "      <td>based on novel mars medallion space travel pri...</td>\n",
       "      <td>Taylor Kitsch Lynn Collins Samantha Morton Wil...</td>\n",
       "      <td>Andrew Stanton</td>\n",
       "      <td>John Carter is a war-weary, former military ca...</td>\n",
       "    </tr>\n",
       "  </tbody>\n",
       "</table>\n",
       "</div>"
      ],
      "text/plain": [
       "       id                                     title  \\\n",
       "0   19995                                    Avatar   \n",
       "1     285  Pirates of the Caribbean: At World's End   \n",
       "2  206647                                   Spectre   \n",
       "3   49026                     The Dark Knight Rises   \n",
       "4   49529                               John Carter   \n",
       "\n",
       "                                            overview  \\\n",
       "0  In the 22nd century, a paraplegic Marine is di...   \n",
       "1  Captain Barbossa, long believed to be dead, ha...   \n",
       "2  A cryptic message from Bond’s past sends him o...   \n",
       "3  Following the death of District Attorney Harve...   \n",
       "4  John Carter is a war-weary, former military ca...   \n",
       "\n",
       "                                     genres  \\\n",
       "0  Action Adventure Fantasy Science Fiction   \n",
       "1                  Adventure Fantasy Action   \n",
       "2                    Action Adventure Crime   \n",
       "3               Action Crime Drama Thriller   \n",
       "4          Action Adventure Science Fiction   \n",
       "\n",
       "                                            keywords  \\\n",
       "0  culture clash future space war space colony so...   \n",
       "1  ocean drug abuse exotic island east india trad...   \n",
       "2         spy based on novel secret agent sequel mi6   \n",
       "3  dc comics crime fighter terrorist secret ident...   \n",
       "4  based on novel mars medallion space travel pri...   \n",
       "\n",
       "                                                cast               crew  \\\n",
       "0  Sam Worthington Zoe Saldana Sigourney Weaver S...      James Cameron   \n",
       "1  Johnny Depp Orlando Bloom Keira Knightley Stel...     Gore Verbinski   \n",
       "2  Daniel Craig Christoph Waltz L\\u00e9a Seydoux ...         Sam Mendes   \n",
       "3  Christian Bale Michael Caine Gary Oldman Anne ...  Christopher Nolan   \n",
       "4  Taylor Kitsch Lynn Collins Samantha Morton Wil...     Andrew Stanton   \n",
       "\n",
       "                                                tags  \n",
       "0  In the 22nd century, a paraplegic Marine is di...  \n",
       "1  Captain Barbossa, long believed to be dead, ha...  \n",
       "2  A cryptic message from Bond’s past sends him o...  \n",
       "3  Following the death of District Attorney Harve...  \n",
       "4  John Carter is a war-weary, former military ca...  "
      ]
     },
     "execution_count": 23,
     "metadata": {},
     "output_type": "execute_result"
    }
   ],
   "source": [
    "movies.head()"
   ]
  },
  {
   "cell_type": "code",
   "execution_count": 24,
   "id": "756cbe9f",
   "metadata": {},
   "outputs": [],
   "source": [
    "new_df=movies[['id','title','tags']]"
   ]
  },
  {
   "cell_type": "code",
   "execution_count": 25,
   "id": "3c875542",
   "metadata": {},
   "outputs": [
    {
     "data": {
      "text/html": [
       "<div>\n",
       "<style scoped>\n",
       "    .dataframe tbody tr th:only-of-type {\n",
       "        vertical-align: middle;\n",
       "    }\n",
       "\n",
       "    .dataframe tbody tr th {\n",
       "        vertical-align: top;\n",
       "    }\n",
       "\n",
       "    .dataframe thead th {\n",
       "        text-align: right;\n",
       "    }\n",
       "</style>\n",
       "<table border=\"1\" class=\"dataframe\">\n",
       "  <thead>\n",
       "    <tr style=\"text-align: right;\">\n",
       "      <th></th>\n",
       "      <th>id</th>\n",
       "      <th>title</th>\n",
       "      <th>tags</th>\n",
       "    </tr>\n",
       "  </thead>\n",
       "  <tbody>\n",
       "    <tr>\n",
       "      <th>0</th>\n",
       "      <td>19995</td>\n",
       "      <td>Avatar</td>\n",
       "      <td>In the 22nd century, a paraplegic Marine is di...</td>\n",
       "    </tr>\n",
       "    <tr>\n",
       "      <th>1</th>\n",
       "      <td>285</td>\n",
       "      <td>Pirates of the Caribbean: At World's End</td>\n",
       "      <td>Captain Barbossa, long believed to be dead, ha...</td>\n",
       "    </tr>\n",
       "    <tr>\n",
       "      <th>2</th>\n",
       "      <td>206647</td>\n",
       "      <td>Spectre</td>\n",
       "      <td>A cryptic message from Bond’s past sends him o...</td>\n",
       "    </tr>\n",
       "    <tr>\n",
       "      <th>3</th>\n",
       "      <td>49026</td>\n",
       "      <td>The Dark Knight Rises</td>\n",
       "      <td>Following the death of District Attorney Harve...</td>\n",
       "    </tr>\n",
       "    <tr>\n",
       "      <th>4</th>\n",
       "      <td>49529</td>\n",
       "      <td>John Carter</td>\n",
       "      <td>John Carter is a war-weary, former military ca...</td>\n",
       "    </tr>\n",
       "    <tr>\n",
       "      <th>...</th>\n",
       "      <td>...</td>\n",
       "      <td>...</td>\n",
       "      <td>...</td>\n",
       "    </tr>\n",
       "    <tr>\n",
       "      <th>4798</th>\n",
       "      <td>9367</td>\n",
       "      <td>El Mariachi</td>\n",
       "      <td>El Mariachi just wants to play his guitar and ...</td>\n",
       "    </tr>\n",
       "    <tr>\n",
       "      <th>4799</th>\n",
       "      <td>72766</td>\n",
       "      <td>Newlyweds</td>\n",
       "      <td>A newlywed couple's honeymoon is upended by th...</td>\n",
       "    </tr>\n",
       "    <tr>\n",
       "      <th>4800</th>\n",
       "      <td>231617</td>\n",
       "      <td>Signed, Sealed, Delivered</td>\n",
       "      <td>\"Signed, Sealed, Delivered\" introduces a dedic...</td>\n",
       "    </tr>\n",
       "    <tr>\n",
       "      <th>4801</th>\n",
       "      <td>126186</td>\n",
       "      <td>Shanghai Calling</td>\n",
       "      <td>When ambitious New York attorney Sam is sent t...</td>\n",
       "    </tr>\n",
       "    <tr>\n",
       "      <th>4802</th>\n",
       "      <td>25975</td>\n",
       "      <td>My Date with Drew</td>\n",
       "      <td>Ever since the second grade when he first saw ...</td>\n",
       "    </tr>\n",
       "  </tbody>\n",
       "</table>\n",
       "<p>4803 rows × 3 columns</p>\n",
       "</div>"
      ],
      "text/plain": [
       "          id                                     title  \\\n",
       "0      19995                                    Avatar   \n",
       "1        285  Pirates of the Caribbean: At World's End   \n",
       "2     206647                                   Spectre   \n",
       "3      49026                     The Dark Knight Rises   \n",
       "4      49529                               John Carter   \n",
       "...      ...                                       ...   \n",
       "4798    9367                               El Mariachi   \n",
       "4799   72766                                 Newlyweds   \n",
       "4800  231617                 Signed, Sealed, Delivered   \n",
       "4801  126186                          Shanghai Calling   \n",
       "4802   25975                         My Date with Drew   \n",
       "\n",
       "                                                   tags  \n",
       "0     In the 22nd century, a paraplegic Marine is di...  \n",
       "1     Captain Barbossa, long believed to be dead, ha...  \n",
       "2     A cryptic message from Bond’s past sends him o...  \n",
       "3     Following the death of District Attorney Harve...  \n",
       "4     John Carter is a war-weary, former military ca...  \n",
       "...                                                 ...  \n",
       "4798  El Mariachi just wants to play his guitar and ...  \n",
       "4799  A newlywed couple's honeymoon is upended by th...  \n",
       "4800  \"Signed, Sealed, Delivered\" introduces a dedic...  \n",
       "4801  When ambitious New York attorney Sam is sent t...  \n",
       "4802  Ever since the second grade when he first saw ...  \n",
       "\n",
       "[4803 rows x 3 columns]"
      ]
     },
     "execution_count": 25,
     "metadata": {},
     "output_type": "execute_result"
    }
   ],
   "source": [
    "new_df"
   ]
  },
  {
   "cell_type": "code",
   "execution_count": 26,
   "id": "29e963e4",
   "metadata": {},
   "outputs": [
    {
     "data": {
      "text/plain": [
       "'In the 22nd century, a paraplegic Marine is dispatched to the moon Pandora on a unique mission, but becomes torn between following orders and protecting an alien civilization. Action Adventure Fantasy Science Fiction culture clash future space war space colony society Sam Worthington Zoe Saldana Sigourney Weaver Stephen Lang Michelle Rodriguez James Cameron'"
      ]
     },
     "execution_count": 26,
     "metadata": {},
     "output_type": "execute_result"
    }
   ],
   "source": [
    "new_df['tags'][0]"
   ]
  },
  {
   "cell_type": "code",
   "execution_count": 27,
   "id": "66ed5a34",
   "metadata": {},
   "outputs": [
    {
     "name": "stderr",
     "output_type": "stream",
     "text": [
      "C:\\Users\\HP\\AppData\\Local\\Temp\\ipykernel_17452\\4224080999.py:1: SettingWithCopyWarning: \n",
      "A value is trying to be set on a copy of a slice from a DataFrame.\n",
      "Try using .loc[row_indexer,col_indexer] = value instead\n",
      "\n",
      "See the caveats in the documentation: https://pandas.pydata.org/pandas-docs/stable/user_guide/indexing.html#returning-a-view-versus-a-copy\n",
      "  new_df['tags']=new_df['tags'].apply(lambda x:x.lower())\n"
     ]
    }
   ],
   "source": [
    "new_df['tags']=new_df['tags'].apply(lambda x:x.lower())"
   ]
  },
  {
   "cell_type": "code",
   "execution_count": 28,
   "id": "04c132f0",
   "metadata": {},
   "outputs": [
    {
     "data": {
      "text/html": [
       "<div>\n",
       "<style scoped>\n",
       "    .dataframe tbody tr th:only-of-type {\n",
       "        vertical-align: middle;\n",
       "    }\n",
       "\n",
       "    .dataframe tbody tr th {\n",
       "        vertical-align: top;\n",
       "    }\n",
       "\n",
       "    .dataframe thead th {\n",
       "        text-align: right;\n",
       "    }\n",
       "</style>\n",
       "<table border=\"1\" class=\"dataframe\">\n",
       "  <thead>\n",
       "    <tr style=\"text-align: right;\">\n",
       "      <th></th>\n",
       "      <th>id</th>\n",
       "      <th>title</th>\n",
       "      <th>tags</th>\n",
       "    </tr>\n",
       "  </thead>\n",
       "  <tbody>\n",
       "    <tr>\n",
       "      <th>0</th>\n",
       "      <td>19995</td>\n",
       "      <td>Avatar</td>\n",
       "      <td>in the 22nd century, a paraplegic marine is di...</td>\n",
       "    </tr>\n",
       "    <tr>\n",
       "      <th>1</th>\n",
       "      <td>285</td>\n",
       "      <td>Pirates of the Caribbean: At World's End</td>\n",
       "      <td>captain barbossa, long believed to be dead, ha...</td>\n",
       "    </tr>\n",
       "    <tr>\n",
       "      <th>2</th>\n",
       "      <td>206647</td>\n",
       "      <td>Spectre</td>\n",
       "      <td>a cryptic message from bond’s past sends him o...</td>\n",
       "    </tr>\n",
       "    <tr>\n",
       "      <th>3</th>\n",
       "      <td>49026</td>\n",
       "      <td>The Dark Knight Rises</td>\n",
       "      <td>following the death of district attorney harve...</td>\n",
       "    </tr>\n",
       "    <tr>\n",
       "      <th>4</th>\n",
       "      <td>49529</td>\n",
       "      <td>John Carter</td>\n",
       "      <td>john carter is a war-weary, former military ca...</td>\n",
       "    </tr>\n",
       "  </tbody>\n",
       "</table>\n",
       "</div>"
      ],
      "text/plain": [
       "       id                                     title  \\\n",
       "0   19995                                    Avatar   \n",
       "1     285  Pirates of the Caribbean: At World's End   \n",
       "2  206647                                   Spectre   \n",
       "3   49026                     The Dark Knight Rises   \n",
       "4   49529                               John Carter   \n",
       "\n",
       "                                                tags  \n",
       "0  in the 22nd century, a paraplegic marine is di...  \n",
       "1  captain barbossa, long believed to be dead, ha...  \n",
       "2  a cryptic message from bond’s past sends him o...  \n",
       "3  following the death of district attorney harve...  \n",
       "4  john carter is a war-weary, former military ca...  "
      ]
     },
     "execution_count": 28,
     "metadata": {},
     "output_type": "execute_result"
    }
   ],
   "source": [
    "new_df.head()"
   ]
  },
  {
   "cell_type": "code",
   "execution_count": 29,
   "id": "9aeaa747",
   "metadata": {},
   "outputs": [],
   "source": [
    "import nltk"
   ]
  },
  {
   "cell_type": "code",
   "execution_count": 30,
   "id": "e4f85b46",
   "metadata": {},
   "outputs": [],
   "source": [
    "from nltk.stem.porter import PorterStemmer\n",
    "ps=PorterStemmer()"
   ]
  },
  {
   "cell_type": "code",
   "execution_count": 31,
   "id": "03565389",
   "metadata": {},
   "outputs": [],
   "source": [
    "def stem(text):\n",
    "    y=[]\n",
    "    for i in text.split():\n",
    "        y.append(ps.stem(i))\n",
    "    return \" \".join(y)"
   ]
  },
  {
   "cell_type": "code",
   "execution_count": 32,
   "id": "2996a47e",
   "metadata": {},
   "outputs": [
    {
     "name": "stderr",
     "output_type": "stream",
     "text": [
      "C:\\Users\\HP\\AppData\\Local\\Temp\\ipykernel_17452\\3514595201.py:1: SettingWithCopyWarning: \n",
      "A value is trying to be set on a copy of a slice from a DataFrame.\n",
      "Try using .loc[row_indexer,col_indexer] = value instead\n",
      "\n",
      "See the caveats in the documentation: https://pandas.pydata.org/pandas-docs/stable/user_guide/indexing.html#returning-a-view-versus-a-copy\n",
      "  new_df['tags']=new_df['tags'].apply(stem)\n"
     ]
    }
   ],
   "source": [
    "new_df['tags']=new_df['tags'].apply(stem)"
   ]
  },
  {
   "cell_type": "code",
   "execution_count": 33,
   "id": "6e85c2de",
   "metadata": {},
   "outputs": [],
   "source": [
    "from sklearn.feature_extraction.text import CountVectorizer\n",
    "cv=CountVectorizer(max_features=5000,stop_words='english')"
   ]
  },
  {
   "cell_type": "code",
   "execution_count": 34,
   "id": "ac1b80a0",
   "metadata": {},
   "outputs": [],
   "source": [
    "vectors=cv.fit_transform(new_df['tags']).toarray()"
   ]
  },
  {
   "cell_type": "code",
   "execution_count": 35,
   "id": "c83d47d3",
   "metadata": {},
   "outputs": [
    {
     "data": {
      "text/plain": [
       "array([0, 0, 0, ..., 0, 0, 0], dtype=int64)"
      ]
     },
     "execution_count": 35,
     "metadata": {},
     "output_type": "execute_result"
    }
   ],
   "source": [
    "vectors[0]"
   ]
  },
  {
   "cell_type": "code",
   "execution_count": 36,
   "id": "aea61cc4",
   "metadata": {},
   "outputs": [],
   "source": [
    "#cv.get_feature_names()"
   ]
  },
  {
   "cell_type": "code",
   "execution_count": 37,
   "id": "4a80b10e",
   "metadata": {},
   "outputs": [],
   "source": [
    "from sklearn.metrics.pairwise import cosine_similarity"
   ]
  },
  {
   "cell_type": "code",
   "execution_count": 38,
   "id": "49f277cf",
   "metadata": {},
   "outputs": [],
   "source": [
    "similarity=cosine_similarity(vectors)"
   ]
  },
  {
   "cell_type": "code",
   "execution_count": 39,
   "id": "6210b43a",
   "metadata": {},
   "outputs": [
    {
     "data": {
      "text/plain": [
       "array([1.        , 0.07325794, 0.07412493, ..., 0.02067246, 0.04441156,\n",
       "       0.        ])"
      ]
     },
     "execution_count": 39,
     "metadata": {},
     "output_type": "execute_result"
    }
   ],
   "source": [
    "similarity[0]"
   ]
  },
  {
   "cell_type": "code",
   "execution_count": 40,
   "id": "4b372c87",
   "metadata": {},
   "outputs": [
    {
     "data": {
      "image/png": "[encoded data removed]",
      "text/plain": [
       "<Figure size 1000x600 with 1 Axes>"
      ]
     },
     "metadata": {},
     "output_type": "display_data"
    },
    {
     "data": {
      "image/png": "[encoded data removed]",
      "text/plain": [
       "<Figure size 800x600 with 2 Axes>"
      ]
     },
     "metadata": {},
     "output_type": "display_data"
    }
   ],
   "source": [
    "index1=0\n",
    "top_10_indices = similarity.argsort()[0][-11:-1][::-1]\n",
    "top_10_similarity = [similarity[0][i] for i in top_10_indices]\n",
    "top_10_movies = [f'Movie {i}' for i in top_10_indices]\n",
    "\n",
    "# Visualize top 10 nearest similarities as a bar graph\n",
    "plt.figure(figsize=(10, 6))\n",
    "plt.barh(top_10_movies, top_10_similarity, color='skyblue')\n",
    "plt.xlabel('Cosine Similarity')\n",
    "plt.ylabel('Movies')\n",
    "plt.title(f'Top 10 Nearest Cosine Similarities to Movie {index1}')\n",
    "plt.gca().invert_yaxis()  # Invert y-axis to show the highest similarity on top\n",
    "plt.show()\n",
    "\n",
    "# Visualize cosine similarity as a heatmap for the selected vectors\n",
    "plt.figure(figsize=(8, 6))\n",
    "sns.heatmap(similarity[:, top_10_indices], cmap='coolwarm', annot=True, fmt=\".2f\", xticklabels=top_10_movies, yticklabels=False)\n",
    "plt.title(f'Cosine Similarity Heatmap between Movie {index1} and Top 10 Nearest Movies')\n",
    "plt.xlabel('Movies')\n",
    "plt.ylabel('Movies')\n",
    "plt.show()"
   ]
  },
  {
   "cell_type": "code",
   "execution_count": null,
   "id": "270b0837",
   "metadata": {},
   "outputs": [],
   "source": []
  },
  {
   "cell_type": "code",
   "execution_count": 42,
   "id": "d45ec3ab",
   "metadata": {},
   "outputs": [
    {
     "data": {
      "image/png": "[encoded data removed]",
      "text/plain": [
       "<Figure size 1000x600 with 1 Axes>"
      ]
     },
     "metadata": {},
     "output_type": "display_data"
    }
   ],
   "source": [
    "import matplotlib.pyplot as plt\n",
    "\n",
    "# Define the indices of the vectors you want to compare\n",
    "index1 = 0  # Index of the first vector\n",
    "\n",
    "# Get the top 10 nearest similarities\n",
    "top_10_indices = similarity.argsort()[0][-11:-1][::-1]\n",
    "top_10_similarity = [similarity[0][i] for i in top_10_indices]\n",
    "top_10_movies = [f'Movie {i}' for i in top_10_indices]\n",
    "\n",
    "# Visualize top 10 nearest similarities as a scatter plot\n",
    "plt.figure(figsize=(10, 6))\n",
    "plt.scatter(top_10_similarity, range(10), color='skyblue')\n",
    "plt.xlabel('Cosine Similarity')\n",
    "plt.ylabel('Top 10 Movies')\n",
    "plt.title(f'Top 10 Nearest Cosine Similarities to Movie {index1}')\n",
    "plt.gca().invert_yaxis()  # Invert y-axis to show the highest similarity at the top\n",
    "plt.show()\n"
   ]
  },
  {
   "cell_type": "code",
   "execution_count": 43,
   "id": "143d025b",
   "metadata": {},
   "outputs": [],
   "source": [
    "def recommend(movie):\n",
    "    movie_index=new_df[new_df['title']==movie].index[0]\n",
    "    distances=similarity[movie_index]\n",
    "    movies_list=sorted(list(enumerate(distances)),reverse=True,key=lambda x:x[1])[1:6]\n",
    "    \n",
    "    for i in movies_list:\n",
    "        print(new_df.iloc[i[0]].title)"
   ]
  },
  {
   "cell_type": "code",
   "execution_count": 45,
   "id": "5e3045e6",
   "metadata": {},
   "outputs": [
    {
     "name": "stdout",
     "output_type": "stream",
     "text": [
      "The Dark Knight\n",
      "The Dark Knight Rises\n",
      "Batman\n",
      "Amidst the Devil's Wings\n",
      "Batman Returns\n"
     ]
    }
   ],
   "source": [
    "recommend('Batman Begins')"
   ]
  },
  {
   "cell_type": "code",
   "execution_count": null,
   "id": "1e106838",
   "metadata": {},
   "outputs": [],
   "source": [
    "import pickle"
   ]
  },
  {
   "cell_type": "code",
   "execution_count": null,
   "id": "de3dde92",
   "metadata": {},
   "outputs": [],
   "source": [
    "pickle.dump(new_df,open('movies.pkl','wb'))"
   ]
  },
  {
   "cell_type": "code",
   "execution_count": null,
   "id": "17b2b947",
   "metadata": {},
   "outputs": [],
   "source": [
    "new_df['title'].values"
   ]
  },
  {
   "cell_type": "code",
   "execution_count": null,
   "id": "900398a0",
   "metadata": {},
   "outputs": [],
   "source": [
    "pickle.dump(new_df.to_dict(),open('movie_dict.pkl','wb'))"
   ]
  },
  {
   "cell_type": "code",
   "execution_count": null,
   "id": "0f1e45da",
   "metadata": {},
   "outputs": [],
   "source": [
    "pickle.dump(similarity,open('similarity.pkl','wb'))"
   ]
  },
  {
   "cell_type": "code",
   "execution_count": null,
   "id": "ec3463ae",
   "metadata": {},
   "outputs": [],
   "source": []
  }
 ],
 "metadata": {
  "kernelspec": {
   "display_name": "Python 3 (ipykernel)",
   "language": "python",
   "name": "python3"
  },
  "language_info": {
   "codemirror_mode": {
    "name": "ipython",
    "version": 3
   },
   "file_extension": ".py",
   "mimetype": "text/x-python",
   "name": "python",
   "nbconvert_exporter": "python",
   "pygments_lexer": "ipython3",
   "version": "3.10.9"
  }
 },
 "nbformat": 4,
 "nbformat_minor": 5
}
